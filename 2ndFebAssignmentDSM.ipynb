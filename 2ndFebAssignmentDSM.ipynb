{
 "cells": [
  {
   "cell_type": "code",
   "execution_count": null,
   "id": "2ec0e551-39a1-41d0-94a3-356b38c57fff",
   "metadata": {},
   "outputs": [],
   "source": [
    "Ans1:"
   ]
  },
  {
   "cell_type": "code",
   "execution_count": null,
   "id": "acce9a63-5ead-411b-9bf2-c52a49b32199",
   "metadata": {},
   "outputs": [],
   "source": [
    "The for loop is used when the number of iterations is already known.\n",
    "\n",
    "A \"while\" loop is used when the number of iterations is unknown. The statement repeats itself till the boolean value becomes false.\n",
    "\n",
    "Example: For loop\n",
    "\n",
    "n = [1, 2, 3]  \n",
    "for i in n: \n",
    "    print(i)\n",
    "    \n",
    "Example: While loop\n",
    "\n",
    "i = 1  \n",
    "while i < 6:  \n",
    "    print(i)\n",
    "    i += 1  \n",
    "\n",
    "\n"
   ]
  },
  {
   "cell_type": "code",
   "execution_count": null,
   "id": "dd2b4d07-bae4-4900-b1e7-f5dba275a28a",
   "metadata": {},
   "outputs": [],
   "source": [
    "Ans2:"
   ]
  },
  {
   "cell_type": "markdown",
   "id": "ea20ba29-0de8-41d3-96d3-762539cb5bab",
   "metadata": {},
   "source": [
    "Sum of first 10 natural numbers and product of first 10 natural number using for loop :\n"
   ]
  },
  {
   "cell_type": "code",
   "execution_count": 5,
   "id": "de71f466-b7ec-47c4-994d-2f67936c15b3",
   "metadata": {},
   "outputs": [
    {
     "data": {
      "text/plain": [
       "55"
      ]
     },
     "execution_count": 5,
     "metadata": {},
     "output_type": "execute_result"
    }
   ],
   "source": [
    "addition = 0\n",
    "\n",
    "for i in range(1,11):\n",
    "    addition = addition + i\n",
    "\n",
    "addition\n",
    "    "
   ]
  },
  {
   "cell_type": "code",
   "execution_count": 6,
   "id": "d05d7864-a123-42a8-9acd-6fdbba6e00cd",
   "metadata": {},
   "outputs": [
    {
     "data": {
      "text/plain": [
       "3628800"
      ]
     },
     "execution_count": 6,
     "metadata": {},
     "output_type": "execute_result"
    }
   ],
   "source": [
    "product = 1\n",
    "\n",
    "for i in range(1,11):\n",
    "    product = product * i\n",
    "    \n",
    "product"
   ]
  },
  {
   "cell_type": "markdown",
   "id": "c3b67430-c128-4f3a-8d6b-ffe2e70f9bc0",
   "metadata": {},
   "source": [
    "Sum of first 10 natural numbers and product of first 10 natural number using while loop :"
   ]
  },
  {
   "cell_type": "code",
   "execution_count": 7,
   "id": "05030a62-1ed8-4d60-8c1f-a3ffb772b65f",
   "metadata": {},
   "outputs": [
    {
     "data": {
      "text/plain": [
       "55"
      ]
     },
     "execution_count": 7,
     "metadata": {},
     "output_type": "execute_result"
    }
   ],
   "source": [
    "addition1 = 0\n",
    "i = 1 \n",
    "\n",
    "while i <= 10:\n",
    "    addition1 = addition1 + i\n",
    "    i += 1\n",
    "addition1"
   ]
  },
  {
   "cell_type": "code",
   "execution_count": 8,
   "id": "bef131c6-9c86-42ef-997d-21b6ee7c6568",
   "metadata": {},
   "outputs": [
    {
     "data": {
      "text/plain": [
       "3628800"
      ]
     },
     "execution_count": 8,
     "metadata": {},
     "output_type": "execute_result"
    }
   ],
   "source": [
    "product1 = 1\n",
    "\n",
    "i = 1\n",
    "\n",
    "while i <= 10:\n",
    "    product1 = product1 * i\n",
    "    i += 1\n",
    "product1"
   ]
  },
  {
   "cell_type": "code",
   "execution_count": null,
   "id": "9316f637-b5a5-4a01-bf6a-70f455f0ea5c",
   "metadata": {},
   "outputs": [],
   "source": [
    "Answer3:"
   ]
  },
  {
   "cell_type": "code",
   "execution_count": 5,
   "id": "1ce851b1-b439-4539-a161-ff7e09b50a55",
   "metadata": {},
   "outputs": [
    {
     "name": "stdin",
     "output_type": "stream",
     "text": [
      "enter consumed electricity in units 310\n"
     ]
    },
    {
     "name": "stdout",
     "output_type": "stream",
     "text": [
      "2250.0\n"
     ]
    }
   ],
   "source": [
    "units = int(input('enter consumed electricity in units'))\n",
    "\n",
    "if units <= 100:\n",
    "    electricity_bill = unit * 4.5\n",
    "elif units <= 200:\n",
    "    electricity_bill = 100 * 4.5 + (units - 100) * 6\n",
    "elif units <= 300:\n",
    "    electricity_bill = 100 * 4.5 + 100 * 6 + (units - 200) * 10\n",
    "else:\n",
    "    electricity_bill = 100 * 4.5 + 100 * 6 + 100 * 10 + (units-300)*20\n",
    "    \n",
    "print(electricity_bill)\n",
    "    "
   ]
  },
  {
   "cell_type": "code",
   "execution_count": null,
   "id": "8d1e814f-3f52-4d8b-9216-f12afa44dd19",
   "metadata": {},
   "outputs": [],
   "source": [
    "Ans4:\n",
    "# using for loop"
   ]
  },
  {
   "cell_type": "code",
   "execution_count": 28,
   "id": "5603bffa-f439-4909-b5f7-0f7e3fa49fdf",
   "metadata": {},
   "outputs": [
    {
     "name": "stdout",
     "output_type": "stream",
     "text": [
      "[1000, 8000, 27000, 64000, 125000, 216000, 343000, 512000, 729000, 1000000]\n"
     ]
    }
   ],
   "source": [
    "l = list(range(1,101))\n",
    "\n",
    "l0 = []\n",
    "\n",
    "n = 1\n",
    "for i in l :\n",
    "    n = i*i*i\n",
    "   # print (n)\n",
    "    if n % 4 == 0 and n % 5 == 0 :\n",
    "        l0.append(n)\n",
    "print(l0)"
   ]
  },
  {
   "cell_type": "code",
   "execution_count": null,
   "id": "5913800d-258c-4c86-b22b-fd5dbe312e31",
   "metadata": {},
   "outputs": [],
   "source": [
    "Ans5:\n",
    "# using while loop"
   ]
  },
  {
   "cell_type": "code",
   "execution_count": 27,
   "id": "4cc1e110-3074-4b00-be2c-8adca388be84",
   "metadata": {},
   "outputs": [
    {
     "name": "stdout",
     "output_type": "stream",
     "text": [
      "[1000, 8000, 27000, 64000, 125000, 216000, 343000, 512000, 729000, 1000000]\n"
     ]
    }
   ],
   "source": [
    "l = list(range(1,101))\n",
    "\n",
    "l1 = []\n",
    "\n",
    "x = 1\n",
    "\n",
    "y = 0\n",
    "\n",
    "while x <= len(l):\n",
    "    \n",
    "    y = x*x*x\n",
    "    \n",
    "    x = x+1\n",
    "   # print(y)\n",
    "    if y % 4 == 0 and y % 5 == 0 :\n",
    "        l1.append(y)\n",
    "print(l1)"
   ]
  },
  {
   "cell_type": "code",
   "execution_count": null,
   "id": "842afa71-2520-482a-813d-f5cdc01fbab0",
   "metadata": {},
   "outputs": [],
   "source": [
    "Ans 5 : "
   ]
  },
  {
   "cell_type": "code",
   "execution_count": 23,
   "id": "e245a461-e126-43c6-bb11-2ab954cf7cc2",
   "metadata": {},
   "outputs": [
    {
     "name": "stdout",
     "output_type": "stream",
     "text": [
      "12\n"
     ]
    }
   ],
   "source": [
    "string = 'i want to become a datascientist'\n",
    "\n",
    "count = 0 \n",
    "\n",
    "for i in string:\n",
    "    if i in ['a','e','i','o','u']:\n",
    "        count += 1\n",
    "print(count)"
   ]
  },
  {
   "cell_type": "code",
   "execution_count": null,
   "id": "4fa4bbf8-b675-40d3-bb88-9b7e4ce04f64",
   "metadata": {},
   "outputs": [],
   "source": []
  }
 ],
 "metadata": {
  "kernelspec": {
   "display_name": "Python 3 (ipykernel)",
   "language": "python",
   "name": "python3"
  },
  "language_info": {
   "codemirror_mode": {
    "name": "ipython",
    "version": 3
   },
   "file_extension": ".py",
   "mimetype": "text/x-python",
   "name": "python",
   "nbconvert_exporter": "python",
   "pygments_lexer": "ipython3",
   "version": "3.10.8"
  }
 },
 "nbformat": 4,
 "nbformat_minor": 5
}
