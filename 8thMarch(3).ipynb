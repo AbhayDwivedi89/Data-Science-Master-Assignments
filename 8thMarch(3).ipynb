{
 "cells": [
  {
   "cell_type": "code",
   "execution_count": null,
   "id": "de847aa6-0145-4b5d-888c-67211ba485bf",
   "metadata": {},
   "outputs": [],
   "source": [
    "Ans:1"
   ]
  },
  {
   "cell_type": "code",
   "execution_count": null,
   "id": "a1eef256-e94f-44ae-b2f4-dbeb9c2b4fa1",
   "metadata": {},
   "outputs": [],
   "source": [
    "A probability density function (PDF) is a function that describes the probability distribution of a continuous \n",
    "random variable."
   ]
  },
  {
   "cell_type": "code",
   "execution_count": null,
   "id": "ab9cf7e2-e935-4167-bc6a-6e1ac7b848cd",
   "metadata": {},
   "outputs": [],
   "source": [
    "Ans:2"
   ]
  },
  {
   "cell_type": "code",
   "execution_count": null,
   "id": "8c8d9b33-5411-4bed-889d-cdd2a37e6db2",
   "metadata": {},
   "outputs": [],
   "source": [
    "There are several types of probability distributions, and they can be classified into two main categories: \n",
    "discrete probability distributions and continuous probability distributions.\n",
    "\n",
    "1.Discrete probability distributions:\n",
    "a) Bernoulli distribution\n",
    "b) Binomial distribution\n",
    "c) Poisson distribution\n",
    "2.Continuous probability distributions:\n",
    "a) Normal distribution (Gaussian distribution)\n",
    "b) Uniform distribution\n",
    "c) Exponential distribution\n",
    "d) Student's t-distribution"
   ]
  },
  {
   "cell_type": "code",
   "execution_count": null,
   "id": "57cc1857-b6b4-415b-b2d0-1b5a4ca02392",
   "metadata": {},
   "outputs": [],
   "source": [
    "Ans:3"
   ]
  },
  {
   "cell_type": "code",
   "execution_count": 3,
   "id": "0f0d9482-fa78-4185-abde-89c49c966f36",
   "metadata": {},
   "outputs": [],
   "source": [
    "import scipy.stats as stats\n",
    "def normal_pdf(mean , std_dev , x):\n",
    "    \n",
    "    return stats.norm.pdf(mean , std_dev , x)"
   ]
  },
  {
   "cell_type": "raw",
   "id": "6656106c-dce1-4a4b-bdd0-97b87fd38ee9",
   "metadata": {},
   "source": [
    " Parameters:\n",
    "        mean (float): The mean of the normal distribution.\n",
    "        std_dev (float): The standard deviation of the normal distribution.\n",
    "        x (float): The point at which to calculate the PDF."
   ]
  },
  {
   "cell_type": "markdown",
   "id": "26861e98-39fa-4901-af03-217780a3a5d8",
   "metadata": {},
   "source": [
    "Ans:4"
   ]
  },
  {
   "cell_type": "markdown",
   "id": "788fcd0f-8085-4d25-b97e-f74ea91dc80a",
   "metadata": {},
   "source": [
    "The binomial distribution has the following properties:\n",
    " The trials are independent of each other.\n",
    " Each trial has only two possible outcomes, which are usually denoted as \"success\" and \"failure\".\n",
    " The probability of success is the same for each trial.\n",
    " The number of trials is fixed.\n",
    " The random variable of interest is the number of successes in the fixed number of trials.\n",
    " \n",
    "Two examples of events where the binomial distribution can be applied are:\n",
    "1.Flipping a coin multiple times\n",
    "2.Quality control in manufacturing"
   ]
  },
  {
   "cell_type": "markdown",
   "id": "2e78d0f5-a3eb-4271-9e58-ed7d325ecae1",
   "metadata": {},
   "source": [
    "Ans:5"
   ]
  },
  {
   "cell_type": "code",
   "execution_count": 8,
   "id": "833a1cbb-9604-455c-a734-17ebf18582f2",
   "metadata": {},
   "outputs": [
    {
     "data": {
      "image/png": "[encoded data removed]",
      "text/plain": [
       "<Figure size 640x480 with 1 Axes>"
      ]
     },
     "metadata": {},
     "output_type": "display_data"
    }
   ],
   "source": [
    "import numpy as np\n",
    "import matplotlib.pyplot as plt\n",
    "\n",
    "n = 100\n",
    "p = 0.4\n",
    "\n",
    "sample = np.random.binomial(n,p, size=1000)\n",
    "\n",
    "plt.hist(sample , bins = 20)\n",
    "plt.xlabel('number of success')\n",
    "plt.ylabel('frequency')\n",
    "plt.title('Binomial Distribution of n = 100 with p = 0.4')\n",
    "plt.show()"
   ]
  },
  {
   "cell_type": "markdown",
   "id": "4e38816d-17f0-4b2f-a6bb-67e8ebe1756e",
   "metadata": {},
   "source": [
    "Ans:6"
   ]
  },
  {
   "cell_type": "code",
   "execution_count": 12,
   "id": "ce50a286-6265-4f62-aad6-9847f7e570be",
   "metadata": {},
   "outputs": [
    {
     "name": "stdout",
     "output_type": "stream",
     "text": [
      "P(X <=  2 ) =  0.42319008112684353\n"
     ]
    }
   ],
   "source": [
    "import math\n",
    "\n",
    "def poisson_cdf(lam, k):\n",
    "    \"\"\"Calculate the CDF of a Poisson distribution with mean lam at k.\"\"\"\n",
    "    cdf = 0.0\n",
    "    for i in range(k + 1):\n",
    "        cdf += math.exp(-lam) * (lam ** i) / math.factorial(i)\n",
    "    return cdf\n",
    "lam = 3\n",
    "k = 2\n",
    "cdf = poisson_cdf(lam, k)\n",
    "print(\"P(X <= \", k, \") = \", cdf)\n"
   ]
  },
  {
   "cell_type": "markdown",
   "id": "3ae8a93b-91f6-4d64-a619-cf0bfdf67e1f",
   "metadata": {},
   "source": [
    "Ans:7"
   ]
  },
  {
   "cell_type": "markdown",
   "id": "22f8ef86-6a9a-4898-af27-58b1eefc606b",
   "metadata": {},
   "source": [
    "The binomial distribution models the number of successes in a fixed number of trials, where each trial is independent and has the same probability of success. For example, the number of heads in 10 coin flips, where the probability of heads is 0.5.\n",
    "\n",
    "The Poisson distribution models the number of occurrences of a rare event in a fixed interval of time or space, where the events occur independently and with a constant rate. For example, the number of car accidents in a day, where the average number of accidents per day is known."
   ]
  },
  {
   "cell_type": "markdown",
   "id": "4c156030-4bda-44a3-aaac-a55006e181cb",
   "metadata": {},
   "source": [
    "Ans:8"
   ]
  },
  {
   "cell_type": "code",
   "execution_count": 11,
   "id": "450ae0a9-1999-43dd-8bf1-1c4f42386f50",
   "metadata": {},
   "outputs": [
    {
     "name": "stdout",
     "output_type": "stream",
     "text": [
      "Sample_mean : 4.981\n",
      "Sample_variance : 4.814639000000001\n"
     ]
    }
   ],
   "source": [
    "import numpy as np\n",
    "np.random.seed(48)\n",
    "\n",
    "sample = np.random.poisson(5 , 1000)\n",
    "\n",
    "sample_mean = np.mean(sample)\n",
    "sample_var = np.var(sample)\n",
    "\n",
    "print('Sample_mean :',sample_mean)\n",
    "print('Sample_variance :',sample_var)"
   ]
  },
  {
   "cell_type": "markdown",
   "id": "3e167ab2-fd19-45a2-b5b6-f1539d3bb567",
   "metadata": {},
   "source": [
    "Ans:9"
   ]
  },
  {
   "cell_type": "markdown",
   "id": "051a3381-d70f-40a5-a5ae-c309ccf9be90",
   "metadata": {},
   "source": [
    "In the binomial distribution, the mean and variance are related as follows:\n",
    "\n",
    "    Mean = n * p\n",
    "    Variance = n * p * (1 - p)\n",
    "    \n",
    "In the Poisson distribution, the mean and variance are also related, but in a different way:\n",
    "\n",
    "    Mean = lambda\n",
    "    Variance = lambda\n"
   ]
  },
  {
   "cell_type": "markdown",
   "id": "d8d0e9bf-8aa5-48be-9c00-9af3c196fa34",
   "metadata": {},
   "source": [
    "Ans:10"
   ]
  },
  {
   "cell_type": "markdown",
   "id": "5422cf14-8f1c-4a0e-8324-900482bcff46",
   "metadata": {},
   "source": [
    "In a normal distribution, the least frequent data points are located in the tails of the distribution, farthest away from the mean. The normal distribution is a symmetric bell-shaped curve, and the highest frequency of data points is located at the center of the distribution, which corresponds to the mean value."
   ]
  },
  {
   "cell_type": "code",
   "execution_count": null,
   "id": "79b4bde9-aabe-4da0-bc24-65a65a5028f0",
   "metadata": {},
   "outputs": [],
   "source": []
  }
 ],
 "metadata": {
  "kernelspec": {
   "display_name": "Python 3 (ipykernel)",
   "language": "python",
   "name": "python3"
  },
  "language_info": {
   "codemirror_mode": {
    "name": "ipython",
    "version": 3
   },
   "file_extension": ".py",
   "mimetype": "text/x-python",
   "name": "python",
   "nbconvert_exporter": "python",
   "pygments_lexer": "ipython3",
   "version": "3.10.8"
  }
 },
 "nbformat": 4,
 "nbformat_minor": 5
}
