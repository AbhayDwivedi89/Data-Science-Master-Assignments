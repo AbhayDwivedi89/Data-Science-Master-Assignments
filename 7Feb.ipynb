{
 "cells": [
  {
   "cell_type": "code",
   "execution_count": null,
   "id": "401034d4-a884-43ee-88b1-996e203835df",
   "metadata": {},
   "outputs": [],
   "source": [
    "Ans1:"
   ]
  },
  {
   "cell_type": "code",
   "execution_count": 5,
   "id": "cda078c0-6cf9-4d26-a7bc-e5e20dcac93f",
   "metadata": {},
   "outputs": [
    {
     "name": "stdin",
     "output_type": "stream",
     "text": [
      "enter your password AA@_$bhay11111111111\n"
     ]
    },
    {
     "name": "stdout",
     "output_type": "stream",
     "text": [
      "Valid Password\n"
     ]
    }
   ],
   "source": [
    "l, u, d, p = 0, 0, 0, 0\n",
    "s = input('enter your password')\n",
    "if (len(s) >= 10):\n",
    "    for i in s:\n",
    " \n",
    "        if (i.islower()):\n",
    "            l+=1           \n",
    " \n",
    "        if (i.isupper()):\n",
    "            u+=1           \n",
    "\n",
    "        if (i.isdigit()):\n",
    "            d+=1           \n",
    " \n",
    "        if(i=='@'or i=='$' or i=='_'):\n",
    "            p+=1  \n",
    "            \n",
    "if (l>=2 and u>=2 and p>=3 and d>=1 and l+p+u+d==len(s)):\n",
    "    print(\"Valid Password\")\n",
    "else:\n",
    "    print(\"Invalid Password\")"
   ]
  },
  {
   "cell_type": "code",
   "execution_count": null,
   "id": "fc42b879-22e7-4d85-990e-5b833d209d7f",
   "metadata": {},
   "outputs": [],
   "source": [
    "Answer2:"
   ]
  },
  {
   "cell_type": "code",
   "execution_count": 9,
   "id": "92666c50-bdbf-44ec-bd0c-026dc05547d4",
   "metadata": {},
   "outputs": [
    {
     "name": "stdout",
     "output_type": "stream",
     "text": [
      "True\n",
      "False\n"
     ]
    }
   ],
   "source": [
    "x = lambda x: True if x.startswith('P') else False\n",
    "print(x('Pwskills'))\n",
    "print(x('sudh'))"
   ]
  },
  {
   "cell_type": "code",
   "execution_count": 15,
   "id": "0421959f-5e82-481b-873f-36f29498b442",
   "metadata": {},
   "outputs": [
    {
     "name": "stdout",
     "output_type": "stream",
     "text": [
      "True\n",
      "False\n"
     ]
    }
   ],
   "source": [
    "y = lambda y : True if y.isnumeric() else False\n",
    "z = '90'\n",
    "x = 'p'\n",
    "print(y(z))\n",
    "print(y(x))"
   ]
  },
  {
   "cell_type": "code",
   "execution_count": 21,
   "id": "e5d6df2a-4752-49be-84bf-893ae4face58",
   "metadata": {},
   "outputs": [
    {
     "data": {
      "text/plain": [
       "[('orange', 80), ('mango', 99), ('grapes', 1000)]"
      ]
     },
     "execution_count": 21,
     "metadata": {},
     "output_type": "execute_result"
    }
   ],
   "source": [
    "l =  [(\"mango\",99),(\"orange\",80), (\"grapes\", 1000)]\n",
    "l_sorted = sorted(l,key=lambda i:i[1])\n",
    "l_sorted\n",
    "      \n",
    "      \n",
    "      "
   ]
  },
  {
   "cell_type": "code",
   "execution_count": 36,
   "id": "0c0f2117-0d22-484e-b0aa-10fd841a4cd6",
   "metadata": {},
   "outputs": [
    {
     "name": "stdout",
     "output_type": "stream",
     "text": [
      "[1, 4, 9, 16, 25, 36, 49, 64, 81, 100]\n"
     ]
    }
   ],
   "source": [
    "lst = [1, 2, 3, 4, 5,6,7,8,9,10] \n",
    "print(list(map(lambda x: x*x, lst))) "
   ]
  },
  {
   "cell_type": "code",
   "execution_count": 39,
   "id": "34eb5da4-9016-4534-8afa-b2028a173a60",
   "metadata": {},
   "outputs": [
    {
     "name": "stdout",
     "output_type": "stream",
     "text": [
      "[1, 8, 27, 64, 125, 216, 343, 512, 729, 1000]\n"
     ]
    }
   ],
   "source": [
    "lst = [1, 2, 3, 4, 5,6,7,8,9,10] \n",
    "print(list(map(lambda x: x**3, lst))) "
   ]
  },
  {
   "cell_type": "code",
   "execution_count": 52,
   "id": "f0261017-396a-4ec7-b538-b378a9c9e796",
   "metadata": {},
   "outputs": [
    {
     "name": "stdin",
     "output_type": "stream",
     "text": [
      "enter number 7\n"
     ]
    },
    {
     "name": "stdout",
     "output_type": "stream",
     "text": [
      "not even\n"
     ]
    }
   ],
   "source": [
    "n = int(input('enter number'))\n",
    "a = lambda n : 'even' if n%2 == 0 else 'not even'\n",
    "print(a(n))"
   ]
  },
  {
   "cell_type": "code",
   "execution_count": 69,
   "id": "db54131f-a705-4ddc-9844-823ced1c492f",
   "metadata": {},
   "outputs": [
    {
     "name": "stdout",
     "output_type": "stream",
     "text": [
      "[1, 3, 5, 7, 9]\n"
     ]
    }
   ],
   "source": [
    "l = [1,2,3,4,5,6,7,8,9,10]\n",
    "a = list(filter(lambda x : x if x%2!=0 else 0 , l))\n",
    "print(a)"
   ]
  },
  {
   "cell_type": "code",
   "execution_count": 1,
   "id": "3f012b74-44ec-48f8-90b7-bc67d2b2490e",
   "metadata": {},
   "outputs": [
    {
     "name": "stdout",
     "output_type": "stream",
     "text": [
      "Positive integers: [1, 2, 3, 4, 5, 6]\n",
      "Negative integers: [-1, -2, -3, -4, -5]\n"
     ]
    }
   ],
   "source": [
    "original_list = [1, 2, 3, 4, 5, 6, -1, -2, -3, -4, -5, 0]\n",
    "\n",
    "positive_list = []\n",
    "negative_list = []\n",
    "\n",
    "for number in original_list:\n",
    "    if number > 0:\n",
    "        positive_list.append(number)\n",
    "    elif number < 0:\n",
    "        negative_list.append(number)\n",
    "\n",
    "print(\"Positive integers:\", positive_list)\n",
    "print(\"Negative integers:\", negative_list)\n"
   ]
  },
  {
   "cell_type": "code",
   "execution_count": null,
   "id": "53c589ae-eef0-449f-8524-fac9edab4d11",
   "metadata": {},
   "outputs": [],
   "source": []
  }
 ],
 "metadata": {
  "kernelspec": {
   "display_name": "Python 3 (ipykernel)",
   "language": "python",
   "name": "python3"
  },
  "language_info": {
   "codemirror_mode": {
    "name": "ipython",
    "version": 3
   },
   "file_extension": ".py",
   "mimetype": "text/x-python",
   "name": "python",
   "nbconvert_exporter": "python",
   "pygments_lexer": "ipython3",
   "version": "3.10.8"
  }
 },
 "nbformat": 4,
 "nbformat_minor": 5
}
