{
 "cells": [
  {
   "cell_type": "code",
   "execution_count": 4,
   "id": "6a521a20-99da-4f22-b438-25065408d196",
   "metadata": {},
   "outputs": [],
   "source": [
    "l = [('Ricky Ponting',27483),('Sachin Tendulker',34357),('Jack Kallis',25534),('virat kohli',24936)]"
   ]
  },
  {
   "cell_type": "code",
   "execution_count": 13,
   "id": "955e0444-e7b8-4a39-80db-560b60aa9640",
   "metadata": {},
   "outputs": [
    {
     "data": {
      "text/plain": [
       "[('virat kohli', 24936),\n",
       " ('Jack Kallis', 25534),\n",
       " ('Ricky Ponting', 27483),\n",
       " ('Sachin Tendulker', 34357)]"
      ]
     },
     "execution_count": 13,
     "metadata": {},
     "output_type": "execute_result"
    }
   ],
   "source": [
    "l_sorted=sorted(l,key=lambda i:i[1])\n",
    "l_sorted"
   ]
  },
  {
   "cell_type": "code",
   "execution_count": null,
   "id": "fef3ea6f-c7e8-4eb5-89f7-7d487e3fcdb7",
   "metadata": {},
   "outputs": [],
   "source": [
    "Answer2:"
   ]
  },
  {
   "cell_type": "code",
   "execution_count": 27,
   "id": "0c06cb28-cda7-4f86-938e-dd9a9549c474",
   "metadata": {},
   "outputs": [
    {
     "data": {
      "text/plain": [
       "[1, 4, 9, 16, 25, 36, 49, 64, 81, 100]"
      ]
     },
     "execution_count": 27,
     "metadata": {},
     "output_type": "execute_result"
    }
   ],
   "source": [
    "l = [1,2,3,4,5,6,7,8,9,10]\n",
    "l2 = list(map(lambda x : x**2,l))\n",
    "l2"
   ]
  },
  {
   "cell_type": "code",
   "execution_count": null,
   "id": "b98bc576-58d2-4e77-8249-a7df95fb5738",
   "metadata": {},
   "outputs": [],
   "source": [
    "Ans3:"
   ]
  },
  {
   "cell_type": "code",
   "execution_count": 29,
   "id": "cd6ddddb-863a-46eb-80bd-e367dbb94e1d",
   "metadata": {},
   "outputs": [
    {
     "data": {
      "text/plain": [
       "('1', '2', '3', '4', '5', '6', '7', '8', '9', '10')"
      ]
     },
     "execution_count": 29,
     "metadata": {},
     "output_type": "execute_result"
    }
   ],
   "source": [
    "l = [1,2,3,4,5,6,7,8,9,10]\n",
    "tuple(map(lambda x : str(x),l))"
   ]
  },
  {
   "cell_type": "code",
   "execution_count": null,
   "id": "9c78f806-a7d9-4dee-86ff-2f18d8e893b9",
   "metadata": {},
   "outputs": [],
   "source": [
    "Answer4:"
   ]
  },
  {
   "cell_type": "code",
   "execution_count": 30,
   "id": "85a6a4eb-2dfe-45d3-8dc6-5a74e21b7489",
   "metadata": {},
   "outputs": [],
   "source": [
    "l = list(range(1,26))"
   ]
  },
  {
   "cell_type": "code",
   "execution_count": 32,
   "id": "d3afdb1d-ce35-4032-8d2a-ad9f7af93546",
   "metadata": {},
   "outputs": [
    {
     "data": {
      "text/plain": [
       "15511210043330985984000000"
      ]
     },
     "execution_count": 32,
     "metadata": {},
     "output_type": "execute_result"
    }
   ],
   "source": [
    "from functools import reduce\n",
    "reduce(lambda x , y : x*y , l)\n"
   ]
  },
  {
   "cell_type": "code",
   "execution_count": null,
   "id": "0d05cd7a-a4bc-45e7-aacd-73c2e5de7aee",
   "metadata": {},
   "outputs": [],
   "source": [
    "Ans5:"
   ]
  },
  {
   "cell_type": "code",
   "execution_count": 33,
   "id": "b771156b-2b77-439a-9088-9a37e00430c3",
   "metadata": {},
   "outputs": [
    {
     "data": {
      "text/plain": [
       "[6, 60, 90, 120]"
      ]
     },
     "execution_count": 33,
     "metadata": {},
     "output_type": "execute_result"
    }
   ],
   "source": [
    "l = [2,3,6,9,27,60,90,120,55,46]\n",
    "list(filter(lambda x : x%2==0 and x%3 == 0 , l))"
   ]
  },
  {
   "cell_type": "code",
   "execution_count": null,
   "id": "9d1fc33a-0b48-46f4-bbb0-31fb27894acd",
   "metadata": {},
   "outputs": [],
   "source": [
    "Answer6:"
   ]
  },
  {
   "cell_type": "code",
   "execution_count": 34,
   "id": "2d4b2631-0a47-43fe-9559-c63ed9874b21",
   "metadata": {},
   "outputs": [
    {
     "data": {
      "text/plain": [
       "['php', 'aba', 'radar', 'level']"
      ]
     },
     "execution_count": 34,
     "metadata": {},
     "output_type": "execute_result"
    }
   ],
   "source": [
    "l = ['python','php','aba','radar','level']\n",
    "list(filter(lambda x : x[::-1] == x , l))"
   ]
  },
  {
   "cell_type": "code",
   "execution_count": null,
   "id": "2355c85f-2586-4e01-b58f-36729f8bdbc6",
   "metadata": {},
   "outputs": [],
   "source": []
  }
 ],
 "metadata": {
  "kernelspec": {
   "display_name": "Python 3 (ipykernel)",
   "language": "python",
   "name": "python3"
  },
  "language_info": {
   "codemirror_mode": {
    "name": "ipython",
    "version": 3
   },
   "file_extension": ".py",
   "mimetype": "text/x-python",
   "name": "python",
   "nbconvert_exporter": "python",
   "pygments_lexer": "ipython3",
   "version": "3.10.8"
  }
 },
 "nbformat": 4,
 "nbformat_minor": 5
}
