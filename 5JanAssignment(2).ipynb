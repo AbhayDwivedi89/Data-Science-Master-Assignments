{
 "cells": [
  {
   "cell_type": "code",
   "execution_count": null,
   "id": "661ed022-3ae1-4a26-a2ea-8d2f3326b789",
   "metadata": {},
   "outputs": [],
   "source": [
    "Ans1:"
   ]
  },
  {
   "cell_type": "code",
   "execution_count": null,
   "id": "9243a2c9-2265-4a90-aec8-a8d8da71cd9e",
   "metadata": {},
   "outputs": [],
   "source": [
    "A Class is like an object constructor, or a \"blueprint\" for creating objects."
   ]
  },
  {
   "cell_type": "code",
   "execution_count": null,
   "id": "53b61489-077b-4995-8e7e-c8cf8a2b3ef1",
   "metadata": {},
   "outputs": [],
   "source": [
    " An object is an instance of a class. It is a collection of attributes (variables) and methods."
   ]
  },
  {
   "cell_type": "code",
   "execution_count": 3,
   "id": "627e556a-3422-4f48-864c-75c7d508b89b",
   "metadata": {},
   "outputs": [
    {
     "name": "stdout",
     "output_type": "stream",
     "text": [
      "Name: abhay Profession: Data Engineer\n",
      "abhay working as a Data Engineer\n"
     ]
    }
   ],
   "source": [
    "class Person:\n",
    "    def __init__(self, name , profession):\n",
    "        self.name = name\n",
    "        self.profession = profession\n",
    "\n",
    "    def about(self):\n",
    "        print('Name:', self.name, 'Profession:', self.profession)\n",
    "\n",
    "\n",
    "    def work(self):\n",
    "        print(self.name, 'working as a', self.profession)\n",
    "\n",
    "abhay= Person('abhay','Data Engineer')\n",
    "\n",
    "abhay.about()\n",
    "abhay.work()\n"
   ]
  },
  {
   "cell_type": "code",
   "execution_count": null,
   "id": "320ee29c-ed7d-4cf4-829c-00b4bb3c35ac",
   "metadata": {},
   "outputs": [],
   "source": [
    "Ans2"
   ]
  },
  {
   "cell_type": "code",
   "execution_count": null,
   "id": "b14adc21-edcd-4215-b330-c761a416512c",
   "metadata": {},
   "outputs": [],
   "source": [
    "four pillars of OOPs are Inheritance, Polymorphism, Encapsulation and Abstraction"
   ]
  },
  {
   "cell_type": "code",
   "execution_count": null,
   "id": "8184b78a-e3ee-4d77-9e41-becfe8ae37a0",
   "metadata": {},
   "outputs": [],
   "source": [
    "Ans3:"
   ]
  },
  {
   "cell_type": "code",
   "execution_count": null,
   "id": "4a600363-9ea6-45cc-b19b-3f5fafa09922",
   "metadata": {},
   "outputs": [],
   "source": [
    "__init__() function is used to assign values to object properties, or \n",
    "other operations that are necessary to do when the object is being created.\n",
    "Example:"
   ]
  },
  {
   "cell_type": "code",
   "execution_count": 4,
   "id": "c4088ac6-f25a-4ee0-ab5d-d33c0040c0b1",
   "metadata": {},
   "outputs": [
    {
     "name": "stdout",
     "output_type": "stream",
     "text": [
      "Name: abhay Profession: Data Engineer\n",
      "abhay working as a Data Engineer\n"
     ]
    }
   ],
   "source": [
    "class Person:\n",
    "    def __init__(self, name , profession):\n",
    "        self.name = name\n",
    "        self.profession = profession\n",
    "\n",
    "    def about(self):\n",
    "        print('Name:', self.name, 'Profession:', self.profession)\n",
    "\n",
    "\n",
    "    def work(self):\n",
    "        print(self.name, 'working as a', self.profession)\n",
    "\n",
    "abhay= Person('abhay','Data Engineer')\n",
    "\n",
    "abhay.about()\n",
    "abhay.work()"
   ]
  },
  {
   "cell_type": "code",
   "execution_count": null,
   "id": "6c33949b-58e6-41cd-92f4-2250511914ca",
   "metadata": {},
   "outputs": [],
   "source": [
    "Ans 4 :"
   ]
  },
  {
   "cell_type": "code",
   "execution_count": null,
   "id": "b740a510-8f94-490c-9026-509000215c16",
   "metadata": {},
   "outputs": [],
   "source": [
    "The self parameter is a reference to the current instance of the class, \n",
    "and is used to access variables that belongs to the class.\n",
    "\n",
    "It does not have to be named self , you can call it whatever you like, \n",
    "but it has to be the first parameter of any function in the class."
   ]
  },
  {
   "cell_type": "code",
   "execution_count": 5,
   "id": "adfbe5c4-a14a-43af-9eb8-a11d1c0d0573",
   "metadata": {},
   "outputs": [
    {
     "name": "stdout",
     "output_type": "stream",
     "text": [
      "Name: abhay Profession: Data Engineer\n",
      "abhay working as a Data Engineer\n"
     ]
    }
   ],
   "source": [
    "class Person:\n",
    "    def __init__(self, name , profession):\n",
    "        self.name = name\n",
    "        self.profession = profession\n",
    "\n",
    "    def about(self):\n",
    "        print('Name:', self.name, 'Profession:', self.profession)\n",
    "\n",
    "\n",
    "    def work(self):\n",
    "        print(self.name, 'working as a', self.profession)\n",
    "\n",
    "abhay= Person('abhay','Data Engineer')\n",
    "\n",
    "abhay.about()\n",
    "abhay.work()"
   ]
  },
  {
   "cell_type": "code",
   "execution_count": null,
   "id": "b7b7182b-e009-4aea-a6ff-1fdda53cd4f5",
   "metadata": {},
   "outputs": [],
   "source": [
    "Ans5:"
   ]
  },
  {
   "cell_type": "code",
   "execution_count": null,
   "id": "3eb1cc38-753d-422e-a6e9-bd44188ece9e",
   "metadata": {},
   "outputs": [],
   "source": [
    "Inheritance is the procedure in which one class inherits the attributes and methods of another class.\n",
    "The class whose properties and methods are inherited is known as the Parent class.\n",
    "And the class that inherits the properties from the parent class is the Child class.\n",
    "Types:\n",
    "    Single inheritance, Multiple inheritance, Multilevel inheritance, hybrid inheritance, and hierarchical inheritance.\n",
    "    \n",
    "Example of each type :\n",
    "    "
   ]
  },
  {
   "cell_type": "code",
   "execution_count": null,
   "id": "64876eef-5d18-4270-89f6-69b143c1dba3",
   "metadata": {},
   "outputs": [],
   "source": [
    "# Python program to demonstrate\n",
    "# single inheritance\n",
    "\n",
    "# Base class\n",
    "class Parent:\n",
    "\tdef func1(self):\n",
    "\t\tprint(\"This function is in parent class.\")\n",
    "\n",
    "# Derived class\n",
    "\n",
    "\n",
    "class Child(Parent):\n",
    "\tdef func2(self):\n",
    "\t\tprint(\"This function is in child class.\")\n",
    "\n",
    "\n",
    "# Driver's code\n",
    "object = Child()\n",
    "object.func1()\n",
    "object.func2()\n"
   ]
  },
  {
   "cell_type": "code",
   "execution_count": null,
   "id": "33aca94a-f93d-4dc1-97e2-e0d0dbcea6cf",
   "metadata": {},
   "outputs": [],
   "source": [
    "# Python program to demonstrate\n",
    "# multiple inheritance\n",
    "\n",
    "# Base class1\n",
    "class Mother:\n",
    "\tmothername = \"\"\n",
    "\n",
    "\tdef mother(self):\n",
    "\t\tprint(self.mothername)\n",
    "\n",
    "# Base class2\n",
    "\n",
    "\n",
    "class Father:\n",
    "\tfathername = \"\"\n",
    "\n",
    "\tdef father(self):\n",
    "\t\tprint(self.fathername)\n",
    "\n",
    "# Derived class\n",
    "\n",
    "\n",
    "class Son(Mother, Father):\n",
    "\tdef parents(self):\n",
    "\t\tprint(\"Father :\", self.fathername)\n",
    "\t\tprint(\"Mother :\", self.mothername)\n",
    "\n",
    "\n",
    "# Driver's code\n",
    "s1 = Son()\n",
    "s1.fathername = \"RAM\"\n",
    "s1.mothername = \"SITA\"\n",
    "s1.parents()\n"
   ]
  },
  {
   "cell_type": "code",
   "execution_count": null,
   "id": "387b7ae3-add4-4d08-b4f7-96eda86e6462",
   "metadata": {},
   "outputs": [],
   "source": [
    "# Python program to demonstrate\n",
    "# multilevel inheritance\n",
    "\n",
    "# Base class\n",
    "\n",
    "\n",
    "class Grandfather:\n",
    "\n",
    "\tdef __init__(self, grandfathername):\n",
    "\t\tself.grandfathername = grandfathername\n",
    "\n",
    "# Intermediate class\n",
    "\n",
    "\n",
    "class Father(Grandfather):\n",
    "\tdef __init__(self, fathername, grandfathername):\n",
    "\t\tself.fathername = fathername\n",
    "\n",
    "\t\t# invoking constructor of Grandfather class\n",
    "\t\tGrandfather.__init__(self, grandfathername)\n",
    "\n",
    "# Derived class\n",
    "\n",
    "\n",
    "class Son(Father):\n",
    "\tdef __init__(self, sonname, fathername, grandfathername):\n",
    "\t\tself.sonname = sonname\n",
    "\n",
    "\t\t# invoking constructor of Father class\n",
    "\t\tFather.__init__(self, fathername, grandfathername)\n",
    "\n",
    "\tdef print_name(self):\n",
    "\t\tprint('Grandfather name :', self.grandfathername)\n",
    "\t\tprint(\"Father name :\", self.fathername)\n",
    "\t\tprint(\"Son name :\", self.sonname)\n",
    "\n",
    "\n",
    "# Driver code\n",
    "s1 = Son('Prince', 'Rampal', 'Lal mani')\n",
    "print(s1.grandfathername)\n",
    "s1.print_name()\n"
   ]
  },
  {
   "cell_type": "code",
   "execution_count": null,
   "id": "0ff9a059-4946-455e-a078-f8af08d5e5fa",
   "metadata": {},
   "outputs": [],
   "source": [
    "# Python program to demonstrate\n",
    "# Hierarchical inheritance\n",
    "\n",
    "\n",
    "# Base class\n",
    "class Parent:\n",
    "\tdef func1(self):\n",
    "\t\tprint(\"This function is in parent class.\")\n",
    "\n",
    "# Derived class1\n",
    "\n",
    "\n",
    "class Child1(Parent):\n",
    "\tdef func2(self):\n",
    "\t\tprint(\"This function is in child 1.\")\n",
    "\n",
    "# Derivied class2\n",
    "\n",
    "\n",
    "class Child2(Parent):\n",
    "\tdef func3(self):\n",
    "\t\tprint(\"This function is in child 2.\")\n",
    "\n",
    "\n",
    "# Driver's code\n",
    "object1 = Child1()\n",
    "object2 = Child2()\n",
    "object1.func1()\n",
    "object1.func2()\n",
    "object2.func1()\n",
    "object2.func3()\n"
   ]
  },
  {
   "cell_type": "code",
   "execution_count": null,
   "id": "81f36236-aff5-437d-93f0-23657d7fbae0",
   "metadata": {},
   "outputs": [],
   "source": [
    "# Python program to demonstrate\n",
    "# hybrid inheritance\n",
    "\n",
    "\n",
    "class School:\n",
    "\tdef func1(self):\n",
    "\t\tprint(\"This function is in school.\")\n",
    "\n",
    "\n",
    "class Student1(School):\n",
    "\tdef func2(self):\n",
    "\t\tprint(\"This function is in student 1. \")\n",
    "\n",
    "\n",
    "class Student2(School):\n",
    "\tdef func3(self):\n",
    "\t\tprint(\"This function is in student 2.\")\n",
    "\n",
    "\n",
    "class Student3(Student1, School):\n",
    "\tdef func4(self):\n",
    "\t\tprint(\"This function is in student 3.\")\n",
    "\n",
    "\n",
    "# Driver's code\n",
    "object = Student3()\n",
    "object.func1()\n",
    "object.func2()\n"
   ]
  }
 ],
 "metadata": {
  "kernelspec": {
   "display_name": "Python 3 (ipykernel)",
   "language": "python",
   "name": "python3"
  },
  "language_info": {
   "codemirror_mode": {
    "name": "ipython",
    "version": 3
   },
   "file_extension": ".py",
   "mimetype": "text/x-python",
   "name": "python",
   "nbconvert_exporter": "python",
   "pygments_lexer": "ipython3",
   "version": "3.10.8"
  }
 },
 "nbformat": 4,
 "nbformat_minor": 5
}
