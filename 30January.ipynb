{
 "cells": [
  {
   "cell_type": "code",
   "execution_count": null,
   "id": "b2165856-b472-469b-bfa4-2ed6639e0706",
   "metadata": {},
   "outputs": [],
   "source": [
    "Ans1:"
   ]
  },
  {
   "cell_type": "code",
   "execution_count": 5,
   "id": "ffd62392-ac8b-4ef1-85a6-48ef0714d592",
   "metadata": {},
   "outputs": [
    {
     "name": "stdin",
     "output_type": "stream",
     "text": [
      "enter your marks 90\n"
     ]
    },
    {
     "name": "stdout",
     "output_type": "stream",
     "text": [
      "Grade B\n"
     ]
    }
   ],
   "source": [
    "marks = int(input('enter your marks'))\n",
    "\n",
    "if marks > 90 :\n",
    "    print ('Grade A')\n",
    "elif marks > 80 and marks <= 90:\n",
    "    print('Grade B')\n",
    "elif marks >= 60 and marks <= 80:\n",
    "    print('Grade c')\n",
    "else:\n",
    "    print('Grade D')\n"
   ]
  },
  {
   "cell_type": "code",
   "execution_count": null,
   "id": "65dfe3af-1928-4636-b781-df92856ec0bb",
   "metadata": {},
   "outputs": [],
   "source": [
    "Ans2:"
   ]
  },
  {
   "cell_type": "code",
   "execution_count": 6,
   "id": "fece46dc-bf3b-48f2-8bc2-ed14378d45cc",
   "metadata": {},
   "outputs": [
    {
     "name": "stdin",
     "output_type": "stream",
     "text": [
      "enter cost price of your website 100000\n"
     ]
    },
    {
     "name": "stdout",
     "output_type": "stream",
     "text": [
      "10% Tax to be paid\n"
     ]
    }
   ],
   "source": [
    "Cost_Price = int(input('enter cost price of your website'))\n",
    "\n",
    "if Cost_Price > 100000:\n",
    "    print('15% Tax to be paid')\n",
    "elif Cost_Price > 50000 and Cost_Price <= 100000:\n",
    "    print('10% Tax to be paid')\n",
    "else :\n",
    "    print('5% tax to be paid')"
   ]
  },
  {
   "cell_type": "code",
   "execution_count": null,
   "id": "24d53057-f63b-42a6-8619-0c75780538fb",
   "metadata": {},
   "outputs": [],
   "source": [
    "Ans3:"
   ]
  },
  {
   "cell_type": "code",
   "execution_count": 10,
   "id": "fb94ecd9-2657-4c8f-8355-df1c26ae1150",
   "metadata": {},
   "outputs": [
    {
     "name": "stdin",
     "output_type": "stream",
     "text": [
      "enter your city name Jaipur\n"
     ]
    },
    {
     "name": "stdout",
     "output_type": "stream",
     "text": [
      "jal mahal\n"
     ]
    }
   ],
   "source": [
    "city = str(input('enter your city name'))\n",
    "\n",
    "if city == 'Delhi':\n",
    "    print('Red Fort')\n",
    "elif city == 'Agra' :\n",
    "    print('TajMahal')\n",
    "elif city == 'Jaipur':\n",
    "    print('jal mahal')"
   ]
  },
  {
   "cell_type": "code",
   "execution_count": null,
   "id": "6c03a8b3-9734-4d90-aa99-45849d232771",
   "metadata": {},
   "outputs": [],
   "source": [
    "Ans4:"
   ]
  },
  {
   "cell_type": "code",
   "execution_count": 11,
   "id": "40ac95ee-2d34-4caf-bde4-09fe348111fb",
   "metadata": {},
   "outputs": [
    {
     "name": "stdin",
     "output_type": "stream",
     "text": [
      "enter a number 90\n"
     ]
    },
    {
     "name": "stdout",
     "output_type": "stream",
     "text": [
      "Times it divided by 3 is  2\n"
     ]
    }
   ],
   "source": [
    "n = int(input('enter a number'))\n",
    "count = 0 \n",
    "while(n >10 ):\n",
    "    \n",
    "    n = n/3 \n",
    "    count +=1\n",
    "print('Times it divided by 3 is ',count)\n"
   ]
  },
  {
   "cell_type": "code",
   "execution_count": null,
   "id": "285a665a-99a3-4def-9f39-5b4668f585aa",
   "metadata": {},
   "outputs": [],
   "source": [
    "Ans5:"
   ]
  },
  {
   "cell_type": "code",
   "execution_count": null,
   "id": "fbc40a0c-bca6-4e00-9ef2-ca9683e363b4",
   "metadata": {},
   "outputs": [],
   "source": [
    " While loop in python is used to run a block of code until a \n",
    "    certain condition is met . when a certain condition \n",
    "    is met the loop terminates.\n",
    "    \n",
    "example :\n",
    "    count = 0\n",
    "    while count < 5 :\n",
    "        print('Hello G')\n",
    "        Count+=1"
   ]
  },
  {
   "cell_type": "code",
   "execution_count": null,
   "id": "8afc472f-4e99-4c7d-bebd-8d400f53b872",
   "metadata": {},
   "outputs": [],
   "source": [
    "Ans6:"
   ]
  },
  {
   "cell_type": "code",
   "execution_count": 22,
   "id": "5859ca48-1263-45ed-b3ce-8c289c4c1676",
   "metadata": {},
   "outputs": [
    {
     "name": "stdin",
     "output_type": "stream",
     "text": [
      "enter no. of rows 4\n"
     ]
    },
    {
     "name": "stdout",
     "output_type": "stream",
     "text": [
      "*  \n",
      "* *  \n",
      "* * *  \n",
      "* * * *  \n"
     ]
    }
   ],
   "source": [
    "row = int(input('enter no. of rows'))\n",
    "i = 1\n",
    "while i <= row:\n",
    "    j =1\n",
    "    while j <= i :\n",
    "        print('*' , end = ' ')\n",
    "        j = j+1\n",
    "    print(' ')\n",
    "    i+=1"
   ]
  },
  {
   "cell_type": "code",
   "execution_count": null,
   "id": "b7c6a376-e69b-41ce-9681-b1c0f44c822e",
   "metadata": {},
   "outputs": [],
   "source": [
    "Ans7:"
   ]
  },
  {
   "cell_type": "code",
   "execution_count": 23,
   "id": "cd235887-a9ef-423f-a608-df19797f2110",
   "metadata": {},
   "outputs": [
    {
     "name": "stdout",
     "output_type": "stream",
     "text": [
      "10\n",
      "9\n",
      "8\n",
      "7\n",
      "6\n",
      "5\n",
      "4\n",
      "3\n",
      "2\n",
      "1\n"
     ]
    }
   ],
   "source": [
    "n = 10 \n",
    "while(n > 0):\n",
    "    print (n)\n",
    "    n -=1"
   ]
  },
  {
   "cell_type": "code",
   "execution_count": null,
   "id": "140d318b-a0b8-43b1-a185-5fb8dfc9d35f",
   "metadata": {},
   "outputs": [],
   "source": []
  }
 ],
 "metadata": {
  "kernelspec": {
   "display_name": "Python 3 (ipykernel)",
   "language": "python",
   "name": "python3"
  },
  "language_info": {
   "codemirror_mode": {
    "name": "ipython",
    "version": 3
   },
   "file_extension": ".py",
   "mimetype": "text/x-python",
   "name": "python",
   "nbconvert_exporter": "python",
   "pygments_lexer": "ipython3",
   "version": "3.10.8"
  }
 },
 "nbformat": 4,
 "nbformat_minor": 5
}
