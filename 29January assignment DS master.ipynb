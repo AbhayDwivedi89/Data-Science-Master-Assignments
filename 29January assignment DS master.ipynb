{
 "cells": [
  {
   "cell_type": "code",
   "execution_count": null,
   "id": "565c7ab1-b518-4588-acee-2fa548cf9dd3",
   "metadata": {},
   "outputs": [],
   "source": [
    "Answer 1 : Guido Van Rossum"
   ]
  },
  {
   "cell_type": "code",
   "execution_count": null,
   "id": "d4165ce1-f2d4-4f48-8b26-bd34d2071ad5",
   "metadata": {},
   "outputs": [],
   "source": [
    "Answer 2: Object Oriented and Dynamic type programming suppoerts python."
   ]
  },
  {
   "cell_type": "code",
   "execution_count": null,
   "id": "ab024acd-71ed-4c87-a9ac-9e0071065b20",
   "metadata": {},
   "outputs": [],
   "source": [
    "Answer 3 :yes"
   ]
  },
  {
   "cell_type": "code",
   "execution_count": null,
   "id": "053cb787-b4e2-4452-8dae-d90ca449c760",
   "metadata": {},
   "outputs": [],
   "source": [
    "Answer 4 :    .py"
   ]
  },
  {
   "cell_type": "code",
   "execution_count": null,
   "id": "49cffb44-9c7c-4013-9c4b-46e1ecca9139",
   "metadata": {},
   "outputs": [],
   "source": [
    "Answer5 :interpreted"
   ]
  },
  {
   "cell_type": "code",
   "execution_count": null,
   "id": "ded88190-27c2-43ca-a05c-391cd7f37852",
   "metadata": {},
   "outputs": [],
   "source": [
    "Answer 6 :\n",
    "if condition :\n",
    "    statement1\n",
    "else:\n",
    "    statement\n",
    "    \n",
    "# identation is used to define a block of code."
   ]
  },
  {
   "cell_type": "code",
   "execution_count": null,
   "id": "05c67492-3910-4e32-b210-084cb2b72c0d",
   "metadata": {},
   "outputs": [],
   "source": [
    "Answer7:        #"
   ]
  },
  {
   "cell_type": "code",
   "execution_count": null,
   "id": "49fb39c8-40dc-4d71-ab95-9b6519014e3d",
   "metadata": {},
   "outputs": [],
   "source": [
    "Answer 8 : \n",
    "    import sys\n",
    "print(sys.executable)\n",
    "print(sys.version)\n",
    "print(sys.version_info)"
   ]
  },
  {
   "cell_type": "code",
   "execution_count": null,
   "id": "6a94db1a-25b6-4264-a043-d573e5c6c3ed",
   "metadata": {},
   "outputs": [],
   "source": [
    "Answer 9 :\n",
    "    Lambda constructor used \n",
    "    "
   ]
  },
  {
   "cell_type": "code",
   "execution_count": null,
   "id": "a2e0ce3f-ecbd-48e0-9252-07d5d9039a31",
   "metadata": {},
   "outputs": [],
   "source": [
    "Answer 10 :\n",
    "    Preffered Installer Program"
   ]
  },
  {
   "cell_type": "code",
   "execution_count": null,
   "id": "f00e29b6-fa8c-40af-aa80-a3c3d3ca1910",
   "metadata": {},
   "outputs": [],
   "source": [
    " Answer 11 :    \n",
    "    print()\n",
    "    input()\n",
    "    type()\n",
    "    range()\n",
    "    int()"
   ]
  },
  {
   "cell_type": "code",
   "execution_count": null,
   "id": "abd60059-e376-475d-b3d8-bd1064924a4d",
   "metadata": {},
   "outputs": [],
   "source": [
    "Answer12 :       \n",
    "    79 Characters"
   ]
  },
  {
   "cell_type": "code",
   "execution_count": null,
   "id": "222b02ec-b977-4ab4-abbb-fc335b15e4fa",
   "metadata": {},
   "outputs": [],
   "source": [
    "Answer 13 :\n",
    "1.Presence of third party modules\n",
    "2.extensive support libraries\n",
    "3.open source and large active community base\n",
    "4. versatie easy to read and write\n",
    "5.User freindly data structure"
   ]
  },
  {
   "cell_type": "code",
   "execution_count": null,
   "id": "8c68169c-8a96-4122-bf6a-f9dd6362effb",
   "metadata": {},
   "outputs": [],
   "source": [
    " Answer 14:  \n",
    "    Memory management in python involves a private\n",
    "    heap containing all python objects and data structures\n",
    "    The management of this private heap is ensured internally \n",
    "    by the python memory manager."
   ]
  },
  {
   "cell_type": "code",
   "execution_count": null,
   "id": "6b52e318-f6a4-44fd-8276-582ed5ed0bef",
   "metadata": {},
   "outputs": [],
   "source": [
    " Answer 15 :\n",
    "    \n",
    "    Install a Recent Version of Python\n",
    "\n",
    "You can easily add Python to Windows path by downloading a recent version of Python, and then checking the box to Add Python to PATH at the bottom of the setup screen:\n",
    "\n",
    "Add Python to PATH\n",
    "\n",
    "Finish the installation, and you should be good to go.\n",
    "\n",
    "Alternatively, you may manually add the paths into the Environment variables."
   ]
  },
  {
   "cell_type": "code",
   "execution_count": null,
   "id": "cba25ad9-7267-4239-8a65-a3df5af20425",
   "metadata": {},
   "outputs": [],
   "source": [
    "Answer 16 :\n",
    "       Yes , indentation is very important in python."
   ]
  }
 ],
 "metadata": {
  "kernelspec": {
   "display_name": "Python 3 (ipykernel)",
   "language": "python",
   "name": "python3"
  },
  "language_info": {
   "codemirror_mode": {
    "name": "ipython",
    "version": 3
   },
   "file_extension": ".py",
   "mimetype": "text/x-python",
   "name": "python",
   "nbconvert_exporter": "python",
   "pygments_lexer": "ipython3",
   "version": "3.10.8"
  }
 },
 "nbformat": 4,
 "nbformat_minor": 5
}
