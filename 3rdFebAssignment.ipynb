{
 "cells": [
  {
   "cell_type": "code",
   "execution_count": null,
   "id": "97818ebb-c824-4eb9-8beb-e762cb5d5abd",
   "metadata": {},
   "outputs": [],
   "source": [
    "Ans1:"
   ]
  },
  {
   "cell_type": "code",
   "execution_count": null,
   "id": "7da23560-bd13-4820-b8a5-ff52e85ed56e",
   "metadata": {},
   "outputs": [],
   "source": [
    "def keyword is used to create a function "
   ]
  },
  {
   "cell_type": "code",
   "execution_count": 4,
   "id": "150cc319-723b-4ce2-ae7a-82f45ae5398b",
   "metadata": {},
   "outputs": [],
   "source": [
    "l = list(range(1,26))"
   ]
  },
  {
   "cell_type": "code",
   "execution_count": 16,
   "id": "710642dd-f465-4d58-9acf-83688ba6a131",
   "metadata": {},
   "outputs": [],
   "source": [
    "l2 = []\n",
    "\n",
    "def func (l):\n",
    "    \n",
    "    for i in l :\n",
    "        if i%2 != 0:\n",
    "            l2.append(i)\n",
    "    return l2\n",
    "    "
   ]
  },
  {
   "cell_type": "code",
   "execution_count": 17,
   "id": "3f6b98c3-36a7-42f2-a790-bd1ec8b3cb3c",
   "metadata": {},
   "outputs": [
    {
     "data": {
      "text/plain": [
       "[1, 3, 5, 7, 9, 11, 13, 15, 17, 19, 21, 23, 25]"
      ]
     },
     "execution_count": 17,
     "metadata": {},
     "output_type": "execute_result"
    }
   ],
   "source": [
    "func(l)"
   ]
  },
  {
   "cell_type": "code",
   "execution_count": null,
   "id": "8a93a641-9cd5-4c6b-9814-744f156df798",
   "metadata": {},
   "outputs": [],
   "source": [
    "Ans2:\n"
   ]
  },
  {
   "cell_type": "code",
   "execution_count": null,
   "id": "f513d592-ea19-4b63-953a-3f114a5ce155",
   "metadata": {},
   "outputs": [],
   "source": [
    "*args allow us to pass the variable number of non keyword arguments to function.\n",
    "and by using it we can pass many arguments at once.\n"
   ]
  },
  {
   "cell_type": "code",
   "execution_count": 18,
   "id": "454ff23c-78d4-4a3e-9f1f-0ecf176cacdc",
   "metadata": {},
   "outputs": [
    {
     "name": "stdout",
     "output_type": "stream",
     "text": [
      "Sum: 8\n",
      "Sum: 22\n",
      "Sum: 17\n"
     ]
    }
   ],
   "source": [
    "def adder(*num):\n",
    "    sum = 0\n",
    "    \n",
    "    for n in num:\n",
    "        sum = sum + n\n",
    "\n",
    "    print(\"Sum:\",sum)\n",
    "\n",
    "adder(3,5)\n",
    "adder(4,5,6,7)\n",
    "adder(1,2,3,5,6)"
   ]
  },
  {
   "cell_type": "code",
   "execution_count": null,
   "id": "dae52506-10f3-4655-b029-ce6eaa3cd080",
   "metadata": {},
   "outputs": [],
   "source": [
    "**kwargs, it allows us to pass the variable length of keyword arguments to the function.\n",
    "In the function, we use the double The arguments are passed as a dictionary a these arguments make a dictionary \n",
    "inside function with name same as the parameter excluding double asterisk **."
   ]
  },
  {
   "cell_type": "code",
   "execution_count": 19,
   "id": "b445b15c-86ed-4e41-b438-593a90c8f5e2",
   "metadata": {},
   "outputs": [
    {
     "name": "stdout",
     "output_type": "stream",
     "text": [
      "\n",
      "Data type of argument: <class 'dict'>\n",
      "Firstname is Sita\n",
      "Lastname is Sharma\n",
      "Age is 22\n",
      "Phone is 1234567890\n",
      "\n",
      "Data type of argument: <class 'dict'>\n",
      "Firstname is John\n",
      "Lastname is Wood\n",
      "Email is johnwood@nomail.com\n",
      "Country is Wakanda\n",
      "Age is 25\n",
      "Phone is 9876543210\n"
     ]
    }
   ],
   "source": [
    "def intro(**data):\n",
    "    print(\"\\nData type of argument:\",type(data))\n",
    "\n",
    "    for key, value in data.items():\n",
    "        print(\"{} is {}\".format(key,value))\n",
    "\n",
    "intro(Firstname=\"Sita\", Lastname=\"Sharma\", Age=22, Phone=1234567890)\n",
    "intro(Firstname=\"John\", Lastname=\"Wood\", Email=\"johnwood@nomail.com\", Country=\"Wakanda\", Age=25, Phone=9876543210)"
   ]
  },
  {
   "cell_type": "code",
   "execution_count": null,
   "id": "528ea50d-ba46-4731-afc4-dfa8df5aa5e4",
   "metadata": {},
   "outputs": [],
   "source": [
    "Ans3:"
   ]
  },
  {
   "cell_type": "code",
   "execution_count": null,
   "id": "a465814a-26e2-420e-83ee-8a5755de80a9",
   "metadata": {},
   "outputs": [],
   "source": [
    " An iterator is an object that can be iterated upon, meaning that you can traverse through all the values. "
   ]
  },
  {
   "cell_type": "code",
   "execution_count": null,
   "id": "86b12259-c634-4495-a40e-b809cab324f2",
   "metadata": {},
   "outputs": [],
   "source": [
    "The iterator object is initialized using the iter() method. \n",
    "It uses the next() method for iteration."
   ]
  },
  {
   "cell_type": "code",
   "execution_count": 20,
   "id": "745e6c73-5ba9-4b68-aa10-c0a72fad3327",
   "metadata": {},
   "outputs": [
    {
     "name": "stdout",
     "output_type": "stream",
     "text": [
      "2\n",
      "4\n",
      "6\n",
      "8\n",
      "10\n"
     ]
    }
   ],
   "source": [
    "l = [2,4,6,8,10,12,14,16,18,20]\n",
    "l_iterator = iter(l)\n",
    "print(next(l_iterator))\n",
    "print(next(l_iterator))\n",
    "print(next(l_iterator))\n",
    "print(next(l_iterator))\n",
    "print(next(l_iterator))"
   ]
  },
  {
   "cell_type": "code",
   "execution_count": null,
   "id": "2198f205-19c8-498a-b3e3-9e7e902625e0",
   "metadata": {},
   "outputs": [],
   "source": [
    "Ans4:"
   ]
  },
  {
   "cell_type": "code",
   "execution_count": null,
   "id": "6ca59371-c290-45af-9228-ef7c2d0055c6",
   "metadata": {},
   "outputs": [],
   "source": [
    "A generator-function is used whenever it needs to generate a value.\n",
    "The Yield keyword in Python is similar to a return statement used for returning values or objects in Python."
   ]
  },
  {
   "cell_type": "code",
   "execution_count": 35,
   "id": "4de38f62-ce3a-487c-b9b2-1d28583c398d",
   "metadata": {},
   "outputs": [],
   "source": [
    "def fibo(n):\n",
    "    a =0 \n",
    "    b = 1\n",
    "    for i in range(n) :\n",
    "        yield a\n",
    "        c=a+b\n",
    "        a = b\n",
    "        b= c\n",
    "    \n"
   ]
  },
  {
   "cell_type": "code",
   "execution_count": 36,
   "id": "9f60a101-197b-4e3b-bcea-b17678a6f661",
   "metadata": {},
   "outputs": [
    {
     "data": {
      "text/plain": [
       "<generator object fibo at 0x7fe7e0755ee0>"
      ]
     },
     "execution_count": 36,
     "metadata": {},
     "output_type": "execute_result"
    }
   ],
   "source": [
    "fibo(10)"
   ]
  },
  {
   "cell_type": "code",
   "execution_count": 37,
   "id": "16c0c3f8-144f-4a02-9d38-bea6fb560c7a",
   "metadata": {},
   "outputs": [
    {
     "name": "stdout",
     "output_type": "stream",
     "text": [
      "0\n",
      "1\n",
      "1\n",
      "2\n",
      "3\n",
      "5\n",
      "8\n",
      "13\n",
      "21\n",
      "34\n"
     ]
    }
   ],
   "source": [
    "for i in fibo(10):\n",
    "    print(i)"
   ]
  },
  {
   "cell_type": "code",
   "execution_count": null,
   "id": "90a634b2-ac7e-4cbc-8631-ceaeec01703f",
   "metadata": {},
   "outputs": [],
   "source": [
    "Ans5:"
   ]
  },
  {
   "cell_type": "code",
   "execution_count": 1,
   "id": "9605dd2b-3ee9-4be1-883d-0ca27b23f13c",
   "metadata": {
    "tags": []
   },
   "outputs": [],
   "source": [
    "from math import sqrt\n",
    "\n",
    "def is_prime(n):\n",
    "    if (n <= 1):\n",
    "        return False\n",
    "    if (n == 2):\n",
    "        return True\n",
    "    if (n % 2 == 0):\n",
    "        return False\n",
    "\n",
    "    i = 3\n",
    "    while i <= sqrt(n):\n",
    "        if n % i == 0:\n",
    "            return False\n",
    "        i = i + 2\n",
    "\n",
    "    return True\n",
    "\n",
    "    "
   ]
  },
  {
   "cell_type": "code",
   "execution_count": 5,
   "id": "4b87e8a9-c412-4fb9-9ea4-11fd7d4cf3dd",
   "metadata": {},
   "outputs": [],
   "source": [
    "def prime_generator():\n",
    "    n = 1\n",
    "    while n:\n",
    "        n += 1\n",
    "        if is_prime(n):\n",
    "            yield n\n"
   ]
  },
  {
   "cell_type": "code",
   "execution_count": 6,
   "id": "a553c804-94ae-47bd-85eb-86bd1518db3f",
   "metadata": {},
   "outputs": [
    {
     "name": "stdout",
     "output_type": "stream",
     "text": [
      "2\n",
      "3\n",
      "5\n",
      "7\n",
      "11\n",
      "13\n",
      "17\n",
      "19\n",
      "23\n",
      "29\n",
      "31\n",
      "37\n",
      "41\n",
      "43\n",
      "47\n",
      "53\n",
      "59\n",
      "61\n",
      "67\n",
      "71\n"
     ]
    }
   ],
   "source": [
    "generator = prime_generator()\n",
    "\n",
    "for i in range(20):\n",
    "    print(next(generator))\n"
   ]
  },
  {
   "cell_type": "code",
   "execution_count": null,
   "id": "4e67ac67-c380-4836-855e-b666fdc17054",
   "metadata": {},
   "outputs": [],
   "source": [
    "Ans5:"
   ]
  },
  {
   "cell_type": "code",
   "execution_count": 28,
   "id": "2033229a-c19d-4a98-98e5-65914e8294f1",
   "metadata": {},
   "outputs": [
    {
     "name": "stdout",
     "output_type": "stream",
     "text": [
      "0\n",
      "1\n",
      "1\n",
      "2\n",
      "3\n",
      "5\n",
      "8\n",
      "13\n",
      "21\n",
      "34\n"
     ]
    }
   ],
   "source": [
    "n = 10\n",
    "i = 1 \n",
    "a = 0 \n",
    "b = 1\n",
    "\n",
    "while i <= n :\n",
    "    print(a)\n",
    "    c = a+b\n",
    "    a = b\n",
    "    b = c\n",
    "    \n",
    "    i += 1"
   ]
  },
  {
   "cell_type": "code",
   "execution_count": null,
   "id": "2be0c940-7a0f-42c7-aba8-a640e7ec69a2",
   "metadata": {},
   "outputs": [],
   "source": [
    "Ans6:"
   ]
  },
  {
   "cell_type": "code",
   "execution_count": 4,
   "id": "7c85de8f-ba8c-4ac2-9019-140b5137c7dc",
   "metadata": {},
   "outputs": [
    {
     "data": {
      "text/plain": [
       "['p', 'w', 's', 'k', 'i', 'l', 'l', 's']"
      ]
     },
     "execution_count": 4,
     "metadata": {},
     "output_type": "execute_result"
    }
   ],
   "source": [
    " s = 'pwskills'\n",
    "[i for i in s ]"
   ]
  },
  {
   "cell_type": "code",
   "execution_count": null,
   "id": "2db3a52b-e9f6-44ba-a5d3-eeed6ae718f0",
   "metadata": {},
   "outputs": [],
   "source": [
    "Ans7:"
   ]
  },
  {
   "cell_type": "code",
   "execution_count": 22,
   "id": "9f56c74a-e334-41e8-800a-814fe659b39a",
   "metadata": {},
   "outputs": [
    {
     "name": "stdin",
     "output_type": "stream",
     "text": [
      "Enter a number: 122221\n"
     ]
    },
    {
     "name": "stdout",
     "output_type": "stream",
     "text": [
      "The number is palindrome\n"
     ]
    }
   ],
   "source": [
    "num=int(input(\"Enter a number:\"))\n",
    "temp=num\n",
    "rev=0\n",
    "while(num>0):\n",
    "    rev=rev*10+num%10\n",
    "    num=num//10\n",
    "if temp==rev :\n",
    "    print(\"The number is palindrome\")\n",
    "else:\n",
    "    print(\"Not a palindrome\")"
   ]
  },
  {
   "cell_type": "code",
   "execution_count": null,
   "id": "d720d3a5-18b4-4588-a84f-e7026b4b94ed",
   "metadata": {},
   "outputs": [],
   "source": [
    "Ans8:"
   ]
  },
  {
   "cell_type": "code",
   "execution_count": 27,
   "id": "95ede516-5e11-4232-bcab-b9459b2d6481",
   "metadata": {},
   "outputs": [
    {
     "data": {
      "text/plain": [
       "[1,\n",
       " 3,\n",
       " 5,\n",
       " 7,\n",
       " 9,\n",
       " 11,\n",
       " 13,\n",
       " 15,\n",
       " 17,\n",
       " 19,\n",
       " 21,\n",
       " 23,\n",
       " 25,\n",
       " 27,\n",
       " 29,\n",
       " 31,\n",
       " 33,\n",
       " 35,\n",
       " 37,\n",
       " 39,\n",
       " 41,\n",
       " 43,\n",
       " 45,\n",
       " 47,\n",
       " 49,\n",
       " 51,\n",
       " 53,\n",
       " 55,\n",
       " 57,\n",
       " 59,\n",
       " 61,\n",
       " 63,\n",
       " 65,\n",
       " 67,\n",
       " 69,\n",
       " 71,\n",
       " 73,\n",
       " 75,\n",
       " 77,\n",
       " 79,\n",
       " 81,\n",
       " 83,\n",
       " 85,\n",
       " 87,\n",
       " 89,\n",
       " 91,\n",
       " 93,\n",
       " 95,\n",
       " 97,\n",
       " 99]"
      ]
     },
     "execution_count": 27,
     "metadata": {},
     "output_type": "execute_result"
    }
   ],
   "source": [
    "[i for i in range(1,101) if i%2 != 0 ]\n"
   ]
  },
  {
   "cell_type": "code",
   "execution_count": null,
   "id": "2b9e48cf-ef4b-494a-95da-cef7fbca7faf",
   "metadata": {},
   "outputs": [],
   "source": []
  }
 ],
 "metadata": {
  "kernelspec": {
   "display_name": "Python 3 (ipykernel)",
   "language": "python",
   "name": "python3"
  },
  "language_info": {
   "codemirror_mode": {
    "name": "ipython",
    "version": 3
   },
   "file_extension": ".py",
   "mimetype": "text/x-python",
   "name": "python",
   "nbconvert_exporter": "python",
   "pygments_lexer": "ipython3",
   "version": "3.10.8"
  }
 },
 "nbformat": 4,
 "nbformat_minor": 5
}
