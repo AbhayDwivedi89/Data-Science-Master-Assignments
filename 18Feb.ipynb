{
 "cells": [
  {
   "cell_type": "code",
   "execution_count": null,
   "id": "e2832831-8136-471f-9e8f-92303045a6d7",
   "metadata": {},
   "outputs": [],
   "source": [
    "Ans1:"
   ]
  },
  {
   "cell_type": "code",
   "execution_count": null,
   "id": "72e0e277-1c17-4b9a-8a27-587a17da221a",
   "metadata": {},
   "outputs": [],
   "source": [
    " An API, or application programming interface, is a way for two or more computer programs to communicate with each other.\n",
    "    An API defines how different applications can request and exchange data with each other\n",
    "    \n",
    "    An example of an API used in real life is the Google Maps API. This API allows developers to embed Google\n",
    "    Maps on their websites or applications, and access various features such as directions, geocoding, places,\n",
    "    and street view. \n",
    "    The Google Maps API enables users to interact with maps without leaving the original website or application."
   ]
  },
  {
   "cell_type": "code",
   "execution_count": null,
   "id": "d256c734-abff-478d-9443-bf07623d48e5",
   "metadata": {},
   "outputs": [],
   "source": [
    "Ans2:"
   ]
  },
  {
   "cell_type": "code",
   "execution_count": null,
   "id": "e70cdfe5-b76c-4fe6-9933-fa856f947ec3",
   "metadata": {},
   "outputs": [],
   "source": [
    "Advantages of using API\n",
    "\n",
    "1.Scalability\n",
    "2.Flexibility\n",
    "3.Reusability\n",
    "4.Time-saving\n",
    "5.Time-saving\n",
    "6.Integration\n",
    "\n",
    "Disadvantages of using API\n",
    "\n",
    "1.Security risks\n",
    "2.Complexity\n",
    "3.Dependencies\n",
    "4.Maintenance\n",
    "5.Cost"
   ]
  },
  {
   "cell_type": "code",
   "execution_count": null,
   "id": "45c7e010-2a55-450b-9da7-27f14d259969",
   "metadata": {},
   "outputs": [],
   "source": [
    "Ans3:"
   ]
  },
  {
   "cell_type": "code",
   "execution_count": null,
   "id": "e51d1a06-f407-4e08-8e29-ac24157070d6",
   "metadata": {},
   "outputs": [],
   "source": [
    "A Web API (Application Programming Interface) is a type of API that is specifically designed to work over the\n",
    "internet using the HTTP protocol. \n",
    "It provides a way for web-based applications to interact with remote servers and access data or services."
   ]
  },
  {
   "cell_type": "code",
   "execution_count": null,
   "id": "7de327ff-9806-42ca-94fd-53e8a3374ede",
   "metadata": {},
   "outputs": [],
   "source": [
    "Difference between API and web API\n",
    "\n",
    "API (Application Programming Interface) is a general term that refers to a set of protocols \n",
    "and tools for building software applications that can interact and exchange data with other applications.\n",
    "\n",
    "A Web API, on the other hand, specifically refers to an API that is designed to work\n",
    "over the internet using the HTTP protocol. \n",
    "Web APIs are typically used to provide data and services to web-based applications and are accessible through web URLs."
   ]
  },
  {
   "cell_type": "code",
   "execution_count": null,
   "id": "645d8796-6105-44c5-ad9d-1190b88e32ad",
   "metadata": {},
   "outputs": [],
   "source": [
    "Ans4:"
   ]
  },
  {
   "cell_type": "code",
   "execution_count": null,
   "id": "856ae4ac-6b5b-4368-8ccd-d8441adb47c6",
   "metadata": {},
   "outputs": [],
   "source": [
    "EST (Representational State Transfer) and\n",
    "SOAP (Simple Object Access Protocol) are two common architectures used for building web services. \n",
    "\n",
    "REST is an architectural style that defines a set of constraints for building web services. \n",
    "RESTful web services typically \n",
    "use HTTP methods (such as GET, POST, PUT, DELETE) to create, read, update, and delete resources.\n",
    "\n",
    "SOAP is an XML-based messaging protocol that defines a set of rules for exchanging \n",
    "structured data between web services. \n",
    "\n",
    "Shortcomings of SOAP:\n",
    "    1.It is more complex and verbose than REST, requiring more bandwidth and processing power.\n",
    "    2.It is less flexible and interoperable than REST, as it only supports XML format and \n",
    "    requires strict adherence to its specifications.\n",
    "    3.It is less compatible with web browsers and firewalls than REST, as it may require\n",
    "    additional configuration or proxy servers to handle the messages"
   ]
  },
  {
   "cell_type": "code",
   "execution_count": null,
   "id": "74ca3dab-9a6e-4a06-a5c8-5b87e9189e34",
   "metadata": {},
   "outputs": [],
   "source": [
    "Ans5:"
   ]
  },
  {
   "cell_type": "code",
   "execution_count": null,
   "id": "1e7b59bc-a2bd-49d8-a83a-a89c8cc3b1f9",
   "metadata": {},
   "outputs": [],
   "source": [
    "REST and SOAP are two different approaches to building web APIs.\n",
    "Here are some of the main differences between them\n",
    "\n",
    "1.SOAP is a protocol, while REST is an architectural style\n",
    "2.SOAP uses a service interface to expose specific operations and parameters of the API using XML messages,\n",
    "while REST uses URIs to identify resources and HTTP methods to perform operations on them.\n",
    "3.SOAP only supports XML format for data exchange, while REST can support different formats such \n",
    "as JSON, HTML, or plain text.\n",
    "4."
   ]
  }
 ],
 "metadata": {
  "kernelspec": {
   "display_name": "Python 3 (ipykernel)",
   "language": "python",
   "name": "python3"
  },
  "language_info": {
   "codemirror_mode": {
    "name": "ipython",
    "version": 3
   },
   "file_extension": ".py",
   "mimetype": "text/x-python",
   "name": "python",
   "nbconvert_exporter": "python",
   "pygments_lexer": "ipython3",
   "version": "3.10.8"
  }
 },
 "nbformat": 4,
 "nbformat_minor": 5
}
