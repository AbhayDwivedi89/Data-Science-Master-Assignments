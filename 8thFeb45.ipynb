{
 "cells": [
  {
   "cell_type": "code",
   "execution_count": null,
   "id": "7ae5e259-7a2a-4ca0-b747-e0816fe4004e",
   "metadata": {},
   "outputs": [],
   "source": [
    "ans1:"
   ]
  },
  {
   "cell_type": "code",
   "execution_count": null,
   "id": "dc7c2f20-9569-43c9-a472-103313e997f8",
   "metadata": {},
   "outputs": [],
   "source": [
    "Abstraction is one of the key concepts in object-oriented programming (OOP). \n",
    "It is a process of hiding the implementation details and exposing only the relevant and essential information to the user.\n",
    "This helps in reducing the complexity of the system and making it easier to understand and use\n"
   ]
  },
  {
   "cell_type": "code",
   "execution_count": null,
   "id": "1118afc5-808a-4c3e-bd6f-f1471541931c",
   "metadata": {},
   "outputs": [],
   "source": [
    "Example:"
   ]
  },
  {
   "cell_type": "code",
   "execution_count": 2,
   "id": "e01ac713-b1d9-47b9-8d4f-350d423a8277",
   "metadata": {},
   "outputs": [],
   "source": [
    "class Shape:\n",
    "    def __init__(self, width, height):\n",
    "        self.width = width\n",
    "        self.height = height\n",
    "\n",
    "    def area(self):\n",
    "        pass\n",
    "\n",
    "class Rectangle(Shape):\n",
    "    def area(self):\n",
    "        return self.width * self.height\n",
    "\n",
    "class Circle(Shape):\n",
    "    def __init__(self, radius):\n",
    "        self.radius = radius\n",
    "\n",
    "    def area(self):\n",
    "        return 3.14 * self.radius * self.radius\n"
   ]
  },
  {
   "cell_type": "code",
   "execution_count": 4,
   "id": "14584557-97a5-4c7b-aa87-dffce54b6061",
   "metadata": {},
   "outputs": [
    {
     "data": {
      "text/plain": [
       "63"
      ]
     },
     "execution_count": 4,
     "metadata": {},
     "output_type": "execute_result"
    }
   ],
   "source": [
    "c = Rectangle(9,7)\n",
    "c.area()"
   ]
  },
  {
   "cell_type": "code",
   "execution_count": 6,
   "id": "deb6061e-1d74-47af-b170-e4ce9f9ab1f9",
   "metadata": {},
   "outputs": [
    {
     "data": {
      "text/plain": [
       "200.96"
      ]
     },
     "execution_count": 6,
     "metadata": {},
     "output_type": "execute_result"
    }
   ],
   "source": [
    "d = Circle(8)\n",
    "d.area()"
   ]
  },
  {
   "cell_type": "code",
   "execution_count": null,
   "id": "ad5f2b60-948f-4c0c-9b98-7f5e51359c33",
   "metadata": {},
   "outputs": [],
   "source": [
    "In this example, the Shape class acts as an abstract class that defines the interface for different types of shapes.\n",
    "The Rectangle and Circle classes inherit from Shape and implement the area method, \n",
    "which calculates the area of the shape."
   ]
  },
  {
   "cell_type": "code",
   "execution_count": null,
   "id": "b5966e98-30f5-4e40-b63e-204fffe4094c",
   "metadata": {},
   "outputs": [],
   "source": [
    "The user of the class does not need to know the details of how the area is calculated for each shape, \n",
    "as it is hidden within the implementation of the class. \n",
    "All that the user needs to know is how to create an instance of the Rectangle or Circle class and call the area method to get the area. \n",
    "This is an example of abstraction in action."
   ]
  },
  {
   "cell_type": "code",
   "execution_count": null,
   "id": "61b5ca46-fd27-4045-a892-52d68b8a234d",
   "metadata": {},
   "outputs": [],
   "source": [
    "Ans2:"
   ]
  },
  {
   "cell_type": "code",
   "execution_count": null,
   "id": "96d3f34a-43fa-44bc-8762-38e913ba4a5f",
   "metadata": {},
   "outputs": [],
   "source": [
    "Abstraction and encapsulation are two fundamental concepts in object-oriented programming (OOP) that are often used together. However, they are different concepts with different goals and purposes.\n",
    "\n",
    "Abstraction is the process of hiding the implementation details and exposing only the relevant information to the user. \n",
    "It is about creating a simplified representation of a complex system. \n",
    "The goal of abstraction is to provide a higher level of understanding of the system by hiding its complexity.\n",
    "\n",
    "Encapsulation, on the other hand, is the process of wrapping data and behavior inside an object,\n",
    "making it self-contained and hiding its implementation details from the outside world. \n",
    "The goal of encapsulation is to protect the object's data and behavior from being directly accessed or modified by \n",
    "the outside world, making it more secure and reliable.\n",
    "\n",
    "Here's an example to differentiate between abstraction and encapsulation in Python:"
   ]
  },
  {
   "cell_type": "code",
   "execution_count": 12,
   "id": "6ab250f0-8d11-4d30-b79b-4c154e7a086b",
   "metadata": {},
   "outputs": [],
   "source": [
    "class BankAccount:\n",
    "    def __init__(self, balance):\n",
    "        self.__balance = balance\n",
    "\n",
    "    def deposit(self, amount):\n",
    "        self.__balance += amount\n",
    "\n",
    "    def withdraw(self, amount):\n",
    "        if self.__balance >= amount:\n",
    "            self.__balance -= amount\n",
    "            return True\n",
    "        else:\n",
    "            return False\n",
    "    def get_balance(self):\n",
    "        return self.__balance"
   ]
  },
  {
   "cell_type": "code",
   "execution_count": 13,
   "id": "3b2d3ad5-7fc6-4a10-87ad-72f27418c6ec",
   "metadata": {},
   "outputs": [],
   "source": [
    "c = BankAccount(5000)"
   ]
  },
  {
   "cell_type": "code",
   "execution_count": 14,
   "id": "65b55503-2918-4e19-9f41-3248bfa39cc1",
   "metadata": {},
   "outputs": [],
   "source": [
    "c.deposit(9000)"
   ]
  },
  {
   "cell_type": "code",
   "execution_count": 16,
   "id": "d4813227-fb90-4936-8409-668960f42341",
   "metadata": {},
   "outputs": [
    {
     "data": {
      "text/plain": [
       "14000"
      ]
     },
     "execution_count": 16,
     "metadata": {},
     "output_type": "execute_result"
    }
   ],
   "source": [
    "c.get_balance()"
   ]
  },
  {
   "cell_type": "code",
   "execution_count": null,
   "id": "347431e1-78e9-424e-8f31-1c46639bb20a",
   "metadata": {},
   "outputs": [],
   "source": [
    "In this example, the BankAccount class provides an abstraction of a bank account. \n",
    "It has the relevant information, such as the balance and methods to deposit and withdraw money.\n",
    "The implementation details of the balance, such as how it is stored and updated, are hidden from the user and encapsulated within the class. \n",
    "The user only needs to know how to create an instance of the class and use the deposit and withdraw methods to interact with the bank account.\n",
    "\n",
    "So, in this example, abstraction provides a simplified view of a bank account,\n",
    "while encapsulation protects the implementation details of the balance and makes the class more secure and reliable."
   ]
  },
  {
   "cell_type": "code",
   "execution_count": null,
   "id": "74817ddf-41b4-457f-a2de-e029d9cdb3c8",
   "metadata": {},
   "outputs": [],
   "source": [
    "Ans3:"
   ]
  },
  {
   "cell_type": "code",
   "execution_count": null,
   "id": "4a647189-53d0-4252-901c-5f4f4a8e0592",
   "metadata": {},
   "outputs": [],
   "source": [
    "A Python module is a file containing Python definitions and statements. \n",
    "A module can define functions, classes, and variables. \n",
    "A module can also include runnable code. Grouping related code into a module makes the code easier to understand and use. \n",
    "It also makes the code logically organized."
   ]
  },
  {
   "cell_type": "code",
   "execution_count": null,
   "id": "d8afa008-dc5d-48ef-ad29-8e0583772d40",
   "metadata": {},
   "outputs": [],
   "source": [
    "Modules are used primarily to group object definitions together that have a common business purpose or use. "
   ]
  },
  {
   "cell_type": "code",
   "execution_count": null,
   "id": "b67bc412-b61e-4a26-8b98-50eb6e43da82",
   "metadata": {},
   "outputs": [],
   "source": [
    "ABCMeta metaclass provides a method called register method that can be invoked by its instance. \n",
    "By using this register method, any abstract base class can become an ancestor of any arbitrary concrete class.\n",
    "Let’s understand this process by considering an example of an abstract base class that registers itself \n",
    "as an ancestor of dict."
   ]
  },
  {
   "cell_type": "code",
   "execution_count": 23,
   "id": "8959c3ee-485a-45f8-b321-2f1f6b0af56d",
   "metadata": {},
   "outputs": [
    {
     "name": "stdout",
     "output_type": "stream",
     "text": [
      "<class 'dict'>\n"
     ]
    }
   ],
   "source": [
    "import abc\n",
    "\n",
    "\n",
    "class AbstractClass(metaclass=abc.ABCMeta):\n",
    "\tdef abstractfunc(self):\n",
    "\t\treturn None\n",
    "\n",
    "\n",
    "print(AbstractClass.register(dict))\n"
   ]
  },
  {
   "cell_type": "code",
   "execution_count": null,
   "id": "79cf8517-cc76-4ade-b912-2f9f225b92b1",
   "metadata": {},
   "outputs": [],
   "source": [
    "Ans4:"
   ]
  },
  {
   "cell_type": "code",
   "execution_count": null,
   "id": "8775bee2-8b4f-49f6-b378-511c626137da",
   "metadata": {},
   "outputs": [],
   "source": [
    "There are several ways to achieve data abstraction in programming:\n",
    "\n",
    "    Encapsulation: Encapsulation is a technique of wrapping data and behavior inside an object, making it self-contained and hiding its implementation details from the outside world.\n",
    "    By using encapsulation, we can create objects that are abstractions of the real-world entities, and hide the implementation details of their data and behavior.\n",
    "\n",
    "    Abstract Data Types (ADT): An abstract data type is a type that is defined in terms of its behavior and the operations it supports, rather than its implementation details. \n",
    "    By defining a data type as an ADT, we can provide a higher-level representation of the data, and hide its implementation details from the outside world.\n",
    "\n",
    "    Interfaces: An interface is a contract that defines a set of methods and properties that an object must implement.\n",
    "    By defining an interface, we can create abstractions of real-world entities, and ensure that all objects that implement the interface have the same behavior.\n",
    "\n",
    "    Access Modifiers: Access modifiers, such as private, protected, and public, can be used to control access to an object's data and behavior. \n",
    "    By using access modifiers, we can hide the implementation details of an object's data and behavior, and expose only the relevant information to the outside world.\n",
    "\n",
    "By using these techniques, we can achieve data abstraction in programming, and create objects that provide a simplified and abstract representation of real-world entities."
   ]
  },
  {
   "cell_type": "code",
   "execution_count": null,
   "id": "51576f12-c3a2-4883-8a2b-939408d1190c",
   "metadata": {},
   "outputs": [],
   "source": [
    "Ans5:"
   ]
  },
  {
   "cell_type": "code",
   "execution_count": null,
   "id": "9cf8f256-d054-4f28-b770-0b47c752efae",
   "metadata": {},
   "outputs": [],
   "source": [
    "No, we cannot create an instance of an abstract class. An abstract class is a class that is declared abstract,\n",
    "which means it cannot be instantiated on its own. \n",
    "The purpose of an abstract class is to provide a common base class or blueprint for other classes to extend.\n",
    "\n",
    "Abstract classes are used to define a common interface or set of methods that must be implemented by any \n",
    "concrete (non-abstract) subclass.\n",
    "The abstract class acts as a template for its subclasses, but it cannot be instantiated as an object in its own right.\n",
    "\n",
    "To use an abstract class, you must extend it and create a concrete subclass that implements the abstract methods\n",
    "defined in the abstract class.\n",
    "Only then can you create an instance of the concrete subclass."
   ]
  }
 ],
 "metadata": {
  "kernelspec": {
   "display_name": "Python 3 (ipykernel)",
   "language": "python",
   "name": "python3"
  },
  "language_info": {
   "codemirror_mode": {
    "name": "ipython",
    "version": 3
   },
   "file_extension": ".py",
   "mimetype": "text/x-python",
   "name": "python",
   "nbconvert_exporter": "python",
   "pygments_lexer": "ipython3",
   "version": "3.10.8"
  }
 },
 "nbformat": 4,
 "nbformat_minor": 5
}
