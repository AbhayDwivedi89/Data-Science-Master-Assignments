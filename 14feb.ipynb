{
 "cells": [
  {
   "cell_type": "code",
   "execution_count": null,
   "id": "d28e1382-dc09-48e4-9359-e4578e1d175c",
   "metadata": {},
   "outputs": [],
   "source": [
    "Ans1:"
   ]
  },
  {
   "cell_type": "code",
   "execution_count": null,
   "id": "2d3157a5-ffe2-4827-859b-6a0413910601",
   "metadata": {},
   "outputs": [],
   "source": [
    "Multithreading in Python is the technique of executing multiple threads \n",
    "(smaller units of a process) simultaneously, within a single program"
   ]
  },
  {
   "cell_type": "code",
   "execution_count": null,
   "id": "b579cc4d-d3c7-4c2a-962e-39f5620d2982",
   "metadata": {},
   "outputs": [],
   "source": [
    "Multithreading is used in Python to achieve concurrency and parallelism."
   ]
  },
  {
   "cell_type": "code",
   "execution_count": null,
   "id": "fcf152fd-d221-4ad9-a2a8-72977f20d178",
   "metadata": {},
   "outputs": [],
   "source": [
    "Ans2"
   ]
  },
  {
   "cell_type": "code",
   "execution_count": null,
   "id": "706dfcc0-d865-40e0-a9b2-b3fb1dd7be63",
   "metadata": {},
   "outputs": [],
   "source": [
    "The threading module is used in Python to create and manage threads."
   ]
  },
  {
   "cell_type": "code",
   "execution_count": null,
   "id": "ac5cc9df-d008-4d5a-a5a4-5002210270f5",
   "metadata": {},
   "outputs": [],
   "source": [
    "activeCount():\n",
    "    This function returns the number of active threads in the current thread's thread hierarchy.\n",
    "    This includes the main thread and any child threads that it has spawned."
   ]
  },
  {
   "cell_type": "code",
   "execution_count": null,
   "id": "7e33ba7e-3993-40bf-8b3e-d4a464a42580",
   "metadata": {},
   "outputs": [],
   "source": [
    "currentThread(): \n",
    "    This function returns a reference to the current thread object. "
   ]
  },
  {
   "cell_type": "code",
   "execution_count": null,
   "id": "522b0051-ff59-418d-b70b-0d314d9d28b9",
   "metadata": {},
   "outputs": [],
   "source": [
    "enumerate():\n",
    "    This function returns a list of all active Thread objects in the current thread's thread hierarchy"
   ]
  },
  {
   "cell_type": "code",
   "execution_count": null,
   "id": "1b6dba77-4604-4d10-bd32-068e5b88e810",
   "metadata": {},
   "outputs": [],
   "source": [
    "Ans3:"
   ]
  },
  {
   "cell_type": "code",
   "execution_count": null,
   "id": "2f7cec75-9ebb-440a-b280-0656bbb8d25c",
   "metadata": {},
   "outputs": [],
   "source": [
    "run(): This method defines the behavior of the thread when it is run. "
   ]
  },
  {
   "cell_type": "code",
   "execution_count": null,
   "id": "180955b3-278a-4afb-80c4-fcf443737c44",
   "metadata": {},
   "outputs": [],
   "source": [
    "start(): This method starts the thread's activity. "
   ]
  },
  {
   "cell_type": "code",
   "execution_count": null,
   "id": "22817831-2916-4ea2-bd3b-a9b377e3bfe4",
   "metadata": {},
   "outputs": [],
   "source": [
    "join(): This method blocks the calling thread until the thread whose join() method is called has completed."
   ]
  },
  {
   "cell_type": "code",
   "execution_count": null,
   "id": "49ca26f7-8e44-489e-a609-077a057e5bf2",
   "metadata": {},
   "outputs": [],
   "source": [
    "isAlive(): This method returns a Boolean value indicating whether the thread is currently executing."
   ]
  },
  {
   "cell_type": "code",
   "execution_count": null,
   "id": "01ca33fb-c82e-40b1-aa62-c057e30fbdda",
   "metadata": {},
   "outputs": [],
   "source": [
    "Ans4:"
   ]
  },
  {
   "cell_type": "code",
   "execution_count": 1,
   "id": "030318f1-196f-4427-94e5-688096dcb9c1",
   "metadata": {},
   "outputs": [
    {
     "name": "stdout",
     "output_type": "stream",
     "text": [
      "1 squared is 1\n",
      "2 squared is 4\n",
      "3 squared is 9\n",
      "4 squared is 16\n",
      "5 squared is 25\n",
      "6 squared is 36\n",
      "7 squared is 49\n",
      "8 squared is 64\n",
      "9 squared is 81\n",
      "10 squared is 100\n",
      "1 cubed is 1\n",
      "2 cubed is 8\n",
      "3 cubed is 27\n",
      "4 cubed is 64\n",
      "5 cubed is 125\n",
      "6 cubed is 216\n",
      "7 cubed is 343\n",
      "8 cubed is 512\n",
      "9 cubed is 729\n",
      "10 cubed is 1000\n",
      "Done!\n"
     ]
    }
   ],
   "source": [
    "import threading\n",
    "\n",
    "def print_squares():\n",
    "    for i in range(1, 11):\n",
    "        print(f\"{i} squared is {i**2}\")\n",
    "\n",
    "def print_cubes():\n",
    "    for i in range(1, 11):\n",
    "        print(f\"{i} cubed is {i**3}\")\n",
    "\n",
    "if __name__ == \"__main__\":\n",
    "    # Create two thread objects\n",
    "    t1 = threading.Thread(target=print_squares)\n",
    "    t2 = threading.Thread(target=print_cubes)\n",
    "\n",
    "    # Start the threads\n",
    "    t1.start()\n",
    "    t2.start()\n",
    "\n",
    "    # Wait for the threads to finish\n",
    "    t1.join()\n",
    "    t2.join()\n",
    "\n",
    "    print(\"Done!\")\n"
   ]
  },
  {
   "cell_type": "code",
   "execution_count": null,
   "id": "d56b653a-18fc-4dca-9f70-f3f28d0fa7f6",
   "metadata": {},
   "outputs": [],
   "source": [
    "Ans5:"
   ]
  },
  {
   "cell_type": "code",
   "execution_count": null,
   "id": "815685a8-81c8-4a1f-bc83-286f51bb9f9d",
   "metadata": {},
   "outputs": [],
   "source": [
    "Advantages of multithreading:"
   ]
  },
  {
   "cell_type": "code",
   "execution_count": null,
   "id": "367960b4-1ae0-4545-a72b-d6bd202a0808",
   "metadata": {},
   "outputs": [],
   "source": [
    "1.Improved performance\n",
    "2.Responsiveness\n",
    "3.Resource sharing\n",
    "4.Simplified program design"
   ]
  },
  {
   "cell_type": "code",
   "execution_count": null,
   "id": "f9ce9993-bece-404e-950c-f02be02e3c0c",
   "metadata": {},
   "outputs": [],
   "source": [
    "Disadvantages of multithreading:"
   ]
  },
  {
   "cell_type": "code",
   "execution_count": null,
   "id": "4a3c3756-b6c7-4893-abb5-51325ae09663",
   "metadata": {},
   "outputs": [],
   "source": [
    "1.Increased complexity\n",
    "2.Synchronization issues\n",
    "3.Increased resource consumption\n",
    "4.Reduced predictability"
   ]
  },
  {
   "cell_type": "code",
   "execution_count": null,
   "id": "f9c3648f-5f74-4633-9758-51c33e585d1f",
   "metadata": {},
   "outputs": [],
   "source": [
    "Ans6:"
   ]
  },
  {
   "cell_type": "code",
   "execution_count": null,
   "id": "d57020c2-08fb-4d95-8dd0-925e29e02ab9",
   "metadata": {},
   "outputs": [],
   "source": [
    "A deadlock occurs when two or more threads or processes are blocked and waiting for each\n",
    "other to release a resource, but none of them is willing to release the resource first,\n",
    "leading to a situation where none of them can proceed."
   ]
  },
  {
   "cell_type": "code",
   "execution_count": null,
   "id": "738bd831-e38e-45e5-ae6c-7d0c08dd12a9",
   "metadata": {},
   "outputs": [],
   "source": [
    "Race conditions typically occur when multiple threads or processes access a\n",
    "shared resource simultaneously and modify it in an unexpected way, leading to incorrect\n",
    "or inconsistent results."
   ]
  }
 ],
 "metadata": {
  "kernelspec": {
   "display_name": "Python 3 (ipykernel)",
   "language": "python",
   "name": "python3"
  },
  "language_info": {
   "codemirror_mode": {
    "name": "ipython",
    "version": 3
   },
   "file_extension": ".py",
   "mimetype": "text/x-python",
   "name": "python",
   "nbconvert_exporter": "python",
   "pygments_lexer": "ipython3",
   "version": "3.10.8"
  }
 },
 "nbformat": 4,
 "nbformat_minor": 5
}
