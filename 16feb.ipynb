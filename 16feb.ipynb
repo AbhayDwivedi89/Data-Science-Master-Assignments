{
 "cells": [
  {
   "cell_type": "code",
   "execution_count": null,
   "id": "31f65dd3-32a4-43b2-a378-5635640e31e7",
   "metadata": {},
   "outputs": [],
   "source": [
    "Ans1:"
   ]
  },
  {
   "cell_type": "code",
   "execution_count": null,
   "id": "e5e01364-139e-422a-aac4-6a6f1dc3514e",
   "metadata": {},
   "outputs": [],
   "source": [
    "A database is a software system that stores and manages data in a structured and organized \n",
    "way, making it easy to retrieve, update, and query information."
   ]
  },
  {
   "cell_type": "code",
   "execution_count": null,
   "id": "3e2674ce-8978-42a2-a273-c4756cda4c45",
   "metadata": {},
   "outputs": [],
   "source": [
    "SQL, or Structured Query Language, is a relational database management system (RDBMS)\n",
    "that uses a tabular structure to store data,where each row represents a record and each column\n",
    "represents a field or attribute of the record."
   ]
  },
  {
   "cell_type": "code",
   "execution_count": null,
   "id": "25fe83b6-f5e3-4a5a-9cb4-c806fcb0ea13",
   "metadata": {},
   "outputs": [],
   "source": [
    "NoSQL, or Not Only SQL, is a non-relational database management system that uses a document-oriented\n",
    "or key-value pair storage model to store data."
   ]
  },
  {
   "cell_type": "code",
   "execution_count": null,
   "id": "87ab6f9d-947f-4ddd-afed-7b6f8e7a91eb",
   "metadata": {},
   "outputs": [],
   "source": [
    "Ans2:"
   ]
  },
  {
   "cell_type": "code",
   "execution_count": null,
   "id": "8e8bfd42-3a09-442e-be2a-5c3f57b58b4c",
   "metadata": {},
   "outputs": [],
   "source": [
    "DDL stands for Data Definition Language. It is a subset of SQL (Structured Query Language) \n",
    "that is used to define and manage the structure of a database."
   ]
  },
  {
   "cell_type": "code",
   "execution_count": null,
   "id": "6dafe203-722e-4fc9-abba-2a6521aba947",
   "metadata": {},
   "outputs": [],
   "source": [
    "CREATE: The CREATE statement is used to create new database objects such as tables,\n",
    "views, procedures, indexes, and more."
   ]
  },
  {
   "cell_type": "code",
   "execution_count": null,
   "id": "6489bcf0-ae2d-4209-acbb-8687b675dc9c",
   "metadata": {},
   "outputs": [],
   "source": [
    "CREATE TABLE students (\n",
    "  id INT PRIMARY KEY,\n",
    "  name VARCHAR(50),\n",
    "  age INT,\n",
    "  gender VARCHAR(10)\n",
    ");\n"
   ]
  },
  {
   "cell_type": "code",
   "execution_count": null,
   "id": "c1b0f543-1804-4db4-b286-f35fda2f5197",
   "metadata": {},
   "outputs": [],
   "source": [
    "DROP: The DROP statement is used to remove database objects such as tables, views,\n",
    "procedures, indexes, and more. "
   ]
  },
  {
   "cell_type": "code",
   "execution_count": null,
   "id": "1a863810-8c9c-425b-95a4-527732e09531",
   "metadata": {},
   "outputs": [],
   "source": [
    "DROP TABLE students;\n"
   ]
  },
  {
   "cell_type": "code",
   "execution_count": null,
   "id": "53a7de2c-94fa-4f2f-896f-24c4f3aafe97",
   "metadata": {},
   "outputs": [],
   "source": [
    "ALTER: The ALTER statement is used to modify the structure of an existing database\n",
    "object such as a table, view, procedure, or index."
   ]
  },
  {
   "cell_type": "code",
   "execution_count": null,
   "id": "aeaf3ae8-29fe-407e-9752-3166a05da5d5",
   "metadata": {},
   "outputs": [],
   "source": [
    "ALTER TABLE students\n",
    "ADD COLUMN email VARCHAR(50);\n"
   ]
  },
  {
   "cell_type": "code",
   "execution_count": null,
   "id": "f6523db1-a90b-4ac9-b10d-f486ab2c4351",
   "metadata": {},
   "outputs": [],
   "source": [
    "TRUNCATE: The TRUNCATE statement is used to remove all data from a table while keeping the structure intact. "
   ]
  },
  {
   "cell_type": "code",
   "execution_count": null,
   "id": "32a18508-81ea-4e81-af4c-30f16819818f",
   "metadata": {},
   "outputs": [],
   "source": [
    "TRUNCATE TABLE students;\n"
   ]
  },
  {
   "cell_type": "code",
   "execution_count": null,
   "id": "ae4e070f-4408-4d99-871f-00aa6dfc6774",
   "metadata": {},
   "outputs": [],
   "source": [
    "Ans3:"
   ]
  },
  {
   "cell_type": "code",
   "execution_count": null,
   "id": "45be455e-d57e-44c1-b7eb-fdfc7d3fdead",
   "metadata": {},
   "outputs": [],
   "source": [
    "DML stands for Data Manipulation Language. It is a subset of SQL (Structured Query Language) \n",
    "used to manipulate data stored in a database."
   ]
  },
  {
   "cell_type": "code",
   "execution_count": null,
   "id": "b5429cd5-4173-4f52-96ef-9f83e978e587",
   "metadata": {},
   "outputs": [],
   "source": [
    "INSERT: The INSERT statement is used to insert new data into a table."
   ]
  },
  {
   "cell_type": "code",
   "execution_count": null,
   "id": "0627aec9-e1b2-4567-a198-fa6b4f49b3ee",
   "metadata": {},
   "outputs": [],
   "source": [
    "INSERT INTO students (id, name, age, gender)\n",
    "VALUES (1, 'John', 20, 'Male');\n"
   ]
  },
  {
   "cell_type": "code",
   "execution_count": null,
   "id": "e3ce5e8f-200a-42ba-85c2-d9fc3e3ff81c",
   "metadata": {},
   "outputs": [],
   "source": [
    "UPDATE: The UPDATE statement is used to modify existing data in a table. "
   ]
  },
  {
   "cell_type": "code",
   "execution_count": null,
   "id": "0d0ccb10-1853-4bf5-880f-e01a42d8c435",
   "metadata": {},
   "outputs": [],
   "source": [
    "UPDATE students\n",
    "SET age = 21\n",
    "WHERE id = 1;\n"
   ]
  },
  {
   "cell_type": "code",
   "execution_count": null,
   "id": "9d45ab88-df67-4c46-98b2-045790f99727",
   "metadata": {},
   "outputs": [],
   "source": [
    "DELETE: The DELETE statement is used to remove data from a table. "
   ]
  },
  {
   "cell_type": "code",
   "execution_count": null,
   "id": "ef65c01f-dac9-40af-b03d-3e56f6bb9393",
   "metadata": {},
   "outputs": [],
   "source": [
    "DELETE FROM students\n",
    "WHERE id = 1;\n"
   ]
  },
  {
   "cell_type": "code",
   "execution_count": null,
   "id": "7929e92a-385c-4f20-89d0-b05026136e6d",
   "metadata": {},
   "outputs": [],
   "source": []
  },
  {
   "cell_type": "code",
   "execution_count": null,
   "id": "9340b844-6890-433c-b404-11725857bbc4",
   "metadata": {},
   "outputs": [],
   "source": [
    "Ans4:"
   ]
  },
  {
   "cell_type": "code",
   "execution_count": null,
   "id": "283c5fdc-2b7d-46cb-bc28-5eaa5a463de2",
   "metadata": {},
   "outputs": [],
   "source": [
    "DQL stands for Data Query Language. It is a subset of SQL (Structured Query Language) \n",
    "used to retrieve data from a database."
   ]
  },
  {
   "cell_type": "code",
   "execution_count": null,
   "id": "990b5920-2d61-478b-a2ca-f38a60236fd9",
   "metadata": {},
   "outputs": [],
   "source": [
    "SELECT: The SELECT statement is used to retrieve data from one or more tables in a database."
   ]
  },
  {
   "cell_type": "code",
   "execution_count": null,
   "id": "5595bb7a-3d5a-435f-ae8b-62b28ccd5fc3",
   "metadata": {},
   "outputs": [],
   "source": [
    "Example:"
   ]
  },
  {
   "cell_type": "code",
   "execution_count": null,
   "id": "50c88292-bc8e-483b-9237-172e6dd01ef0",
   "metadata": {},
   "outputs": [],
   "source": [
    "SELECT * FROM students;\n"
   ]
  },
  {
   "cell_type": "code",
   "execution_count": null,
   "id": "3c1c4100-081e-4a2d-8803-042bd737a3fa",
   "metadata": {},
   "outputs": [],
   "source": [
    "Ans5:"
   ]
  },
  {
   "cell_type": "code",
   "execution_count": null,
   "id": "53a6c514-fe26-46f3-a77f-7946c7d67cea",
   "metadata": {},
   "outputs": [],
   "source": [
    "A primary key is a column or a set of columns that uniquely identifies each row in a table. "
   ]
  },
  {
   "cell_type": "code",
   "execution_count": null,
   "id": "d1cf067d-3077-4f89-a254-af1663d4a44a",
   "metadata": {},
   "outputs": [],
   "source": [
    "A foreign key is a column or a set of columns that establishes a relationship between two tables in a database. \n",
    "It refers to the primary keyin another table to create a link between them."
   ]
  },
  {
   "cell_type": "code",
   "execution_count": null,
   "id": "9354cc88-d356-49ff-a407-51e56380231e",
   "metadata": {},
   "outputs": [],
   "source": [
    "Ans6:"
   ]
  },
  {
   "cell_type": "code",
   "execution_count": null,
   "id": "dc8c23b2-d031-4c24-b919-5fa1c5a8fded",
   "metadata": {},
   "outputs": [],
   "source": [
    "import mysql.connector\n",
    "\n",
    "# connect to the database\n",
    "mydb = mysql.connector.connect(\n",
    "  host=\"localhost\",\n",
    "  user=\"yourusername\",\n",
    "  password=\"yourpassword\",\n",
    "  database=\"yourdatabase\"\n",
    ")\n",
    "\n",
    "# create a cursor object\n",
    "mycursor = mydb.cursor()\n",
    "\n",
    "# execute a SQL query\n",
    "mycursor.execute(\"SELECT * FROM yourtable\")\n",
    "\n",
    "# fetch the result\n",
    "result = mycursor.fetchall()\n",
    "\n",
    "# print the result\n",
    "for row in result:\n",
    "  print(row)\n"
   ]
  },
  {
   "cell_type": "code",
   "execution_count": null,
   "id": "7f266079-cfe1-4ed4-bc5e-9a048af152a1",
   "metadata": {},
   "outputs": [],
   "source": [
    " cursor() method creates a cursor object, which is used to execute SQL queries and fetch the results."
   ]
  },
  {
   "cell_type": "code",
   "execution_count": null,
   "id": "b97db952-54d9-48e9-81cc-c68ddcc39623",
   "metadata": {},
   "outputs": [],
   "source": [
    "The execute() method is used to execute a SQL query.\n",
    "It takes a string parameter that contains the SQL query to be executed. "
   ]
  },
  {
   "cell_type": "code",
   "execution_count": null,
   "id": "bd36c176-bedf-413c-9060-a7d91553268d",
   "metadata": {},
   "outputs": [],
   "source": [
    "Ans7:"
   ]
  },
  {
   "cell_type": "code",
   "execution_count": null,
   "id": "1b8efae5-25a8-4fde-afd9-940c99d4a34d",
   "metadata": {},
   "outputs": [],
   "source": [
    "The order of execution of SQL clauses in an SQL"
   ]
  },
  {
   "cell_type": "code",
   "execution_count": null,
   "id": "138a0b2a-d3a2-4ff6-bb67-130f88d4e4d6",
   "metadata": {},
   "outputs": [],
   "source": [
    "FROM clause\n",
    "WHERE clause\n",
    "GROUP BY clause\n",
    "HAVING clause\n",
    "SELECT clause\n",
    "ORDER BY clause\n",
    "LIMIT clause"
   ]
  },
  {
   "cell_type": "code",
   "execution_count": null,
   "id": "9352e6ec-4cbf-4a9e-9900-be1ed3a9ed0a",
   "metadata": {},
   "outputs": [],
   "source": []
  },
  {
   "cell_type": "code",
   "execution_count": null,
   "id": "6c62d315-4080-4fb1-92ae-6ae1d018872e",
   "metadata": {},
   "outputs": [],
   "source": []
  }
 ],
 "metadata": {
  "kernelspec": {
   "display_name": "Python 3 (ipykernel)",
   "language": "python",
   "name": "python3"
  },
  "language_info": {
   "codemirror_mode": {
    "name": "ipython",
    "version": 3
   },
   "file_extension": ".py",
   "mimetype": "text/x-python",
   "name": "python",
   "nbconvert_exporter": "python",
   "pygments_lexer": "ipython3",
   "version": "3.10.8"
  }
 },
 "nbformat": 4,
 "nbformat_minor": 5
}
