{
 "cells": [
  {
   "cell_type": "code",
   "execution_count": null,
   "id": "1322823f-6df1-486b-aa0f-9b4a374b574c",
   "metadata": {},
   "outputs": [],
   "source": [
    "Ans1:"
   ]
  },
  {
   "cell_type": "code",
   "execution_count": null,
   "id": "b8a2ce2b-b6d4-4ea7-be7e-df6db7351fc0",
   "metadata": {},
   "outputs": [],
   "source": [
    "In Python, an exception is an error that occurs during the execution of a program. When an \n",
    "exception occurs, it disrupts the normal flow of the program and causes it to terminate,\n",
    "unless the exception is handled properly. Exceptions are a way to handle errors in a program and \n",
    "make it more robust."
   ]
  },
  {
   "cell_type": "code",
   "execution_count": null,
   "id": "e53de6a0-673a-4ef8-99fd-89b16ec4aacc",
   "metadata": {},
   "outputs": [],
   "source": [
    "The main difference between exceptions and syntax errors is that exceptions occur during \n",
    "the runtime of a program, while syntax errors occur before the program is executed.\n"
   ]
  },
  {
   "cell_type": "code",
   "execution_count": null,
   "id": "e0aa92be-e676-4497-9c5d-20708b28d177",
   "metadata": {},
   "outputs": [],
   "source": [
    "Ans2:"
   ]
  },
  {
   "cell_type": "code",
   "execution_count": null,
   "id": "7dc3eb5f-a881-4875-92b2-6ad4165c6afd",
   "metadata": {},
   "outputs": [],
   "source": [
    "When an exception is not handled in a program, it results in an error or a crash. The \n",
    "program will terminate abruptly and the user will see an error message that explains the \n",
    "cause of the error.\n",
    "Example:"
   ]
  },
  {
   "cell_type": "code",
   "execution_count": 1,
   "id": "cd865f34-5613-41e3-8c0a-c31381fc4330",
   "metadata": {},
   "outputs": [
    {
     "ename": "ZeroDivisionError",
     "evalue": "division by zero",
     "output_type": "error",
     "traceback": [
      "\u001b[0;31m---------------------------------------------------------------------------\u001b[0m",
      "\u001b[0;31mZeroDivisionError\u001b[0m                         Traceback (most recent call last)",
      "Cell \u001b[0;32mIn[1], line 4\u001b[0m\n\u001b[1;32m      1\u001b[0m \u001b[38;5;28;01mdef\u001b[39;00m \u001b[38;5;21mdivide_numbers\u001b[39m(a, b):\n\u001b[1;32m      2\u001b[0m     \u001b[38;5;28;01mreturn\u001b[39;00m a \u001b[38;5;241m/\u001b[39m b\n\u001b[0;32m----> 4\u001b[0m \u001b[38;5;28mprint\u001b[39m(\u001b[43mdivide_numbers\u001b[49m\u001b[43m(\u001b[49m\u001b[38;5;241;43m10\u001b[39;49m\u001b[43m,\u001b[49m\u001b[43m \u001b[49m\u001b[38;5;241;43m0\u001b[39;49m\u001b[43m)\u001b[49m)\n",
      "Cell \u001b[0;32mIn[1], line 2\u001b[0m, in \u001b[0;36mdivide_numbers\u001b[0;34m(a, b)\u001b[0m\n\u001b[1;32m      1\u001b[0m \u001b[38;5;28;01mdef\u001b[39;00m \u001b[38;5;21mdivide_numbers\u001b[39m(a, b):\n\u001b[0;32m----> 2\u001b[0m     \u001b[38;5;28;01mreturn\u001b[39;00m \u001b[43ma\u001b[49m\u001b[43m \u001b[49m\u001b[38;5;241;43m/\u001b[39;49m\u001b[43m \u001b[49m\u001b[43mb\u001b[49m\n",
      "\u001b[0;31mZeroDivisionError\u001b[0m: division by zero"
     ]
    }
   ],
   "source": [
    "def divide_numbers(a, b):\n",
    "    return a / b\n",
    "\n",
    "print(divide_numbers(10, 0))\n"
   ]
  },
  {
   "cell_type": "code",
   "execution_count": null,
   "id": "aa132f3c-b080-401d-9956-63be0e498023",
   "metadata": {},
   "outputs": [],
   "source": [
    "Ans3:"
   ]
  },
  {
   "cell_type": "code",
   "execution_count": null,
   "id": "5fcf40ae-4edb-4eaf-9e6e-bf63149a7223",
   "metadata": {},
   "outputs": [],
   "source": [
    "Python provides two statements that are used to catch and handle exceptions: try and except.\n",
    "The try statement is used to enclose a block of code that may raise an exception, and the except\n",
    "statement is used to specify what to do if the exception is raised."
   ]
  },
  {
   "cell_type": "code",
   "execution_count": 4,
   "id": "05c2ca07-1b42-4cd9-b6b3-68586e151982",
   "metadata": {},
   "outputs": [
    {
     "name": "stdin",
     "output_type": "stream",
     "text": [
      "Enter the first number:  45\n",
      "Enter the second number:  65\n"
     ]
    },
    {
     "name": "stdout",
     "output_type": "stream",
     "text": [
      "The result is: 0.6923076923076923\n"
     ]
    }
   ],
   "source": [
    "try:\n",
    "    num1 = int(input(\"Enter the first number: \"))\n",
    "    num2 = int(input(\"Enter the second number: \"))\n",
    "    result = num1 / num2\n",
    "    print(\"The result is:\", result)\n",
    "except ValueError:\n",
    "    print(\"Invalid input. Please enter a valid integer.\")\n",
    "except ZeroDivisionError:\n",
    "    print(\"Cannot divide by zero.\")\n"
   ]
  },
  {
   "cell_type": "code",
   "execution_count": null,
   "id": "084f448b-d42b-4dc2-8f18-08d78b122c1d",
   "metadata": {},
   "outputs": [],
   "source": [
    "Ans4:"
   ]
  },
  {
   "cell_type": "code",
   "execution_count": null,
   "id": "18bc5b10-36b1-4931-8d88-27c051877f79",
   "metadata": {},
   "outputs": [],
   "source": [
    "The try and else blocks are used together to handle exceptions.\n",
    "The try block contains the code that may raise an exception, and the \n",
    "else block contains code that will be executed if the try block completes\n",
    "successfully, without raising an exception. Here's an example:"
   ]
  },
  {
   "cell_type": "code",
   "execution_count": 1,
   "id": "ee17dede-13a5-43c7-941e-7c34219575cf",
   "metadata": {},
   "outputs": [
    {
     "name": "stdin",
     "output_type": "stream",
     "text": [
      "Please enter a number:  45\n"
     ]
    },
    {
     "name": "stdout",
     "output_type": "stream",
     "text": [
      "You entered the number: 45\n"
     ]
    }
   ],
   "source": [
    "try:\n",
    "    x = int(input(\"Please enter a number: \"))\n",
    "except ValueError:\n",
    "    print(\"Oops! That was not a valid number. Try again...\")\n",
    "else:\n",
    "    print(\"You entered the number:\", x)\n"
   ]
  },
  {
   "cell_type": "code",
   "execution_count": null,
   "id": "0fc35824-ca2a-4747-bc62-077d32d5b690",
   "metadata": {},
   "outputs": [],
   "source": [
    "The finally block is used to execute code that should always run, \n",
    "whether an exception was raised or not. Here's an example:"
   ]
  },
  {
   "cell_type": "code",
   "execution_count": 2,
   "id": "ed376a27-ec50-4e4d-baf2-8b89c0f594b9",
   "metadata": {},
   "outputs": [
    {
     "name": "stdout",
     "output_type": "stream",
     "text": [
      "The file does not exist.\n"
     ]
    },
    {
     "ename": "NameError",
     "evalue": "name 'file' is not defined",
     "output_type": "error",
     "traceback": [
      "\u001b[0;31m---------------------------------------------------------------------------\u001b[0m",
      "\u001b[0;31mNameError\u001b[0m                                 Traceback (most recent call last)",
      "Cell \u001b[0;32mIn[2], line 7\u001b[0m\n\u001b[1;32m      5\u001b[0m     \u001b[38;5;28mprint\u001b[39m(\u001b[38;5;124m\"\u001b[39m\u001b[38;5;124mThe file does not exist.\u001b[39m\u001b[38;5;124m\"\u001b[39m)\n\u001b[1;32m      6\u001b[0m \u001b[38;5;28;01mfinally\u001b[39;00m:\n\u001b[0;32m----> 7\u001b[0m     \u001b[43mfile\u001b[49m\u001b[38;5;241m.\u001b[39mclose()\n",
      "\u001b[0;31mNameError\u001b[0m: name 'file' is not defined"
     ]
    }
   ],
   "source": [
    "try:\n",
    "    file = open(\"example.txt\", \"r\")\n",
    "    print(file.read())\n",
    "except FileNotFoundError:\n",
    "    print(\"The file does not exist.\")\n",
    "finally:\n",
    "    file.close()\n"
   ]
  },
  {
   "cell_type": "code",
   "execution_count": null,
   "id": "6ebdcac4-8ae4-4e42-939b-d50d8ae05ed6",
   "metadata": {},
   "outputs": [],
   "source": [
    "The raise keyword is used to raise an exception manually, instead of waiting for\n",
    "an error to occur naturally. Here's an example:"
   ]
  },
  {
   "cell_type": "code",
   "execution_count": 3,
   "id": "d1f1dcf1-b61e-4a37-9208-cf08e2695fdd",
   "metadata": {},
   "outputs": [],
   "source": [
    "def validate_age(age):\n",
    "    if age < 0:\n",
    "        raise ValueError(\"Age cannot be negative.\")\n",
    "    elif age > 120:\n",
    "        raise ValueError(\"Age cannot be greater than 120.\")\n",
    "    else:\n",
    "        print(\"Age is valid.\")\n"
   ]
  },
  {
   "cell_type": "code",
   "execution_count": null,
   "id": "638f6874-3572-4f6f-ba43-1b9b791f24e6",
   "metadata": {},
   "outputs": [],
   "source": [
    "Ans5:"
   ]
  },
  {
   "cell_type": "code",
   "execution_count": null,
   "id": "5ac36297-d9ce-4555-94df-40b1b9cfe843",
   "metadata": {},
   "outputs": [],
   "source": [
    "Custom exceptions in Python are user-defined exceptions that can be created to handle specific situations in a program.\n",
    "Custom exceptions are derived from the base Exception class, and can have their own unique names and messages.\n",
    "We may need custom exceptions in Python for several reasons. \n",
    "One of the main reasons is to make the code more readable and maintainable"
   ]
  },
  {
   "cell_type": "code",
   "execution_count": 5,
   "id": "7383d2e0-2c09-458c-94d0-4a8b6c88c4a7",
   "metadata": {},
   "outputs": [
    {
     "name": "stdout",
     "output_type": "stream",
     "text": [
      "Error: You do not have enough funds to withdraw this amount.\n"
     ]
    }
   ],
   "source": [
    "class NotEnoughFundsError(Exception):\n",
    "    pass\n",
    "\n",
    "class BankAccount:\n",
    "    def __init__(self, balance):\n",
    "        self.balance = balance\n",
    "\n",
    "    def withdraw(self, amount):\n",
    "        if amount > self.balance:\n",
    "            raise NotEnoughFundsError(\"You do not have enough funds to withdraw this amount.\")\n",
    "        self.balance -= amount\n",
    "        print(\"Withdrawal successful. Your balance is now:\", self.balance)\n",
    "\n",
    "# Example usage\n",
    "my_account = BankAccount(500)\n",
    "try:\n",
    "    my_account.withdraw(600)\n",
    "except NotEnoughFundsError as e:\n",
    "    print(\"Error:\", e)\n"
   ]
  },
  {
   "cell_type": "code",
   "execution_count": null,
   "id": "79fdffd9-778c-412c-a98a-4af7331e0584",
   "metadata": {},
   "outputs": [],
   "source": [
    "Ans6:"
   ]
  },
  {
   "cell_type": "code",
   "execution_count": 6,
   "id": "b994eaf9-a9a7-4a05-8123-5cf443043333",
   "metadata": {},
   "outputs": [
    {
     "name": "stdout",
     "output_type": "stream",
     "text": [
      "Error: You do not have enough funds to withdraw this amount.\n"
     ]
    }
   ],
   "source": [
    "class NotEnoughFundsError(Exception):\n",
    "    pass\n",
    "\n",
    "class BankAccount:\n",
    "    def __init__(self, balance):\n",
    "        self.balance = balance\n",
    "\n",
    "    def withdraw(self, amount):\n",
    "        if amount > self.balance:\n",
    "            raise NotEnoughFundsError(\"You do not have enough funds to withdraw this amount.\")\n",
    "        self.balance -= amount\n",
    "        print(\"Withdrawal successful. Your balance is now:\", self.balance)\n",
    "\n",
    "# Example usage\n",
    "my_account = BankAccount(500)\n",
    "try:\n",
    "    my_account.withdraw(600)\n",
    "except NotEnoughFundsError as e:\n",
    "    print(\"Error:\", e)\n"
   ]
  },
  {
   "cell_type": "code",
   "execution_count": null,
   "id": "5da3b40b-3122-4f17-b893-babcf8e9d5f8",
   "metadata": {},
   "outputs": [],
   "source": []
  }
 ],
 "metadata": {
  "kernelspec": {
   "display_name": "Python 3 (ipykernel)",
   "language": "python",
   "name": "python3"
  },
  "language_info": {
   "codemirror_mode": {
    "name": "ipython",
    "version": 3
   },
   "file_extension": ".py",
   "mimetype": "text/x-python",
   "name": "python",
   "nbconvert_exporter": "python",
   "pygments_lexer": "ipython3",
   "version": "3.10.8"
  }
 },
 "nbformat": 4,
 "nbformat_minor": 5
}
