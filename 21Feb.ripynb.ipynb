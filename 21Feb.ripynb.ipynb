{
 "cells": [
  {
   "cell_type": "code",
   "execution_count": null,
   "id": "e13c1835-afab-47e8-86e5-7ac741b4b650",
   "metadata": {},
   "outputs": [],
   "source": [
    "Ans1:"
   ]
  },
  {
   "cell_type": "code",
   "execution_count": null,
   "id": "6b7558de-6e4e-452e-9003-3b5eb307ae19",
   "metadata": {},
   "outputs": [],
   "source": [
    " Web scraping is the process of extracting data from a specific web page or website.\n",
    " \n",
    " Web scraping is used for various purposes, such as\n",
    " 1.Data Collection\n",
    " 2.Market Research\n",
    " 3.Lead Generation\n",
    " 4.content creation\n",
    " 5.Price Monitoring\n",
    " 6.search engine optimization\n",
    " \n",
    " Here are three common areas where web scraping is used to get data:\n",
    "  1.E-Commerce\n",
    "  2.Social Media\n",
    "  3.Research\n",
    " "
   ]
  },
  {
   "cell_type": "code",
   "execution_count": null,
   "id": "485304be-757e-4e1e-863b-e2b48372bdb8",
   "metadata": {},
   "outputs": [],
   "source": [
    "Ans2:"
   ]
  },
  {
   "cell_type": "code",
   "execution_count": null,
   "id": "c0b6efba-a940-49d2-a247-63724a1c786e",
   "metadata": {},
   "outputs": [],
   "source": [
    "Here are some common methods used for web scraping:\n",
    "    1.Manual copy-pasting\n",
    "    2.Text pattern matching\n",
    "    3.HTML parsing\n",
    "    4.Web scraping tools\n",
    "    5.APIs"
   ]
  },
  {
   "cell_type": "code",
   "execution_count": null,
   "id": "1cfcfc34-6726-4f63-8960-5c2a90b9845f",
   "metadata": {},
   "outputs": [],
   "source": [
    "Ans3:"
   ]
  },
  {
   "cell_type": "code",
   "execution_count": null,
   "id": "3fd2e720-796a-42a3-962f-c5b6a24d7b48",
   "metadata": {},
   "outputs": [],
   "source": [
    "Beautiful Soup is a Python library for pulling data out of HTML and XML files.\n",
    "\n",
    "It is used for web scraping because it allows us to easily extract data from web pages using simple methods and expressions\n"
   ]
  },
  {
   "cell_type": "raw",
   "id": "f4b09f08-1adf-4970-bbe9-a7af7b4abffe",
   "metadata": {},
   "source": [
    "Ans4:"
   ]
  },
  {
   "cell_type": "code",
   "execution_count": null,
   "id": "b97d4935-9fc2-4560-8a29-073d98f85def",
   "metadata": {},
   "outputs": [],
   "source": [
    "Flask is used in this web scraping project because it allows us to parse our collected data and display it as HTML in a new HTML file. we can also use Flask to create \n",
    "dynamic web pages that show updated web scraping results every time the page is reloaded in the browser."
   ]
  },
  {
   "cell_type": "code",
   "execution_count": null,
   "id": "5f110e83-271f-45eb-8fb3-5aba64723e7c",
   "metadata": {},
   "outputs": [],
   "source": [
    "Ans5:"
   ]
  },
  {
   "cell_type": "code",
   "execution_count": null,
   "id": "629be48d-5d0f-4550-bb0b-f991edae0b44",
   "metadata": {},
   "outputs": [],
   "source": [
    " AWS services used in this project\n",
    "    codepipeline and Elastic Beanstalk\n",
    "    \n",
    "Elastic Beanstalk is a computer service that makes it easier for developers to quickly deploy \n",
    "and manage applications on AWS.\n",
    "\n",
    "CodePipeline is a continuous delivery service that helps us automate our release pipelines for fast\n",
    "and reliable application and infrastructure updates."
   ]
  },
  {
   "cell_type": "code",
   "execution_count": null,
   "id": "dfaaa6f3-cc68-41bf-b848-7751b0984d66",
   "metadata": {},
   "outputs": [],
   "source": []
  },
  {
   "cell_type": "code",
   "execution_count": null,
   "id": "f68a6087-b7d9-41c2-8dff-40af90fbe38e",
   "metadata": {},
   "outputs": [],
   "source": []
  },
  {
   "cell_type": "code",
   "execution_count": null,
   "id": "500bc00e-ee67-413e-a170-ca44bb0b400a",
   "metadata": {},
   "outputs": [],
   "source": []
  },
  {
   "cell_type": "code",
   "execution_count": null,
   "id": "f536cb3f-46bb-43c3-86ae-61372a0a55ab",
   "metadata": {},
   "outputs": [],
   "source": []
  },
  {
   "cell_type": "code",
   "execution_count": null,
   "id": "ffc126c0-9216-4136-a807-2ddac69ecae5",
   "metadata": {},
   "outputs": [],
   "source": []
  }
 ],
 "metadata": {
  "kernelspec": {
   "display_name": "Python 3 (ipykernel)",
   "language": "python",
   "name": "python3"
  },
  "language_info": {
   "codemirror_mode": {
    "name": "ipython",
    "version": 3
   },
   "file_extension": ".py",
   "mimetype": "text/x-python",
   "name": "python",
   "nbconvert_exporter": "python",
   "pygments_lexer": "ipython3",
   "version": "3.10.8"
  }
 },
 "nbformat": 4,
 "nbformat_minor": 5
}
