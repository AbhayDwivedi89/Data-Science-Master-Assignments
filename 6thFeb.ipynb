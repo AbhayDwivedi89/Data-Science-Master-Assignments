{
 "cells": [
  {
   "cell_type": "code",
   "execution_count": 16,
   "id": "8432a662-3411-4abb-b9d2-52eb119ede64",
   "metadata": {},
   "outputs": [],
   "source": [
    "list1 = [1,2,3,4, [44,55,66, True], False, (34,56,78,89,34), {1,2,3,3,2,1}, {1:34, \"key2\": [55, 67, 78, 89], 4: (45,\n",
    "22, 61, 34)}, [56, 'data science'], 'Machine Learning']\n"
   ]
  },
  {
   "cell_type": "code",
   "execution_count": 35,
   "id": "ebcf7fde-b4d7-4092-a25a-73b11ccb08d8",
   "metadata": {},
   "outputs": [],
   "source": [
    "def flatlist(list1):\n",
    "    flatl = []\n",
    "    for i in list1 :\n",
    "        if type(i) == list or type(i) == tuple or type(i) == set :\n",
    "            for element in i :\n",
    "                flatl.append(element)\n",
    "        elif type(i) == dict :\n",
    "                \n",
    "                temp=list(i.items())\n",
    "                for x in temp:\n",
    "                    for v in x:\n",
    "                        if type(v) == list or type(v) == tuple :\n",
    "                            for j in v :\n",
    "                                flatl.append(j)\n",
    "                        else:\n",
    "                            flatl.append(v)\n",
    "        else:\n",
    "            flatl.append(i)\n",
    "    return flatl\n",
    "                    \n",
    "        "
   ]
  },
  {
   "cell_type": "code",
   "execution_count": 41,
   "id": "a280ca58-128a-45b7-b661-52df0f032ecb",
   "metadata": {},
   "outputs": [
    {
     "name": "stdout",
     "output_type": "stream",
     "text": [
      "[1, 2, 3, 4, 44, 55, 66, True, False, 34, 56, 78, 89, 34, 1, 2, 3, 1, 34, 'key2', 55, 67, 78, 89, 4, 45, 22, 61, 34, 56, 'data science', 'Machine Learning']\n",
      "4134711838987085478833841242112000\n"
     ]
    }
   ],
   "source": [
    "list3 = flatlist(list1)\n",
    "print(list3)\n",
    "c = 1\n",
    "for i in list3 :\n",
    "    if type(i) == int :\n",
    "        c = c*i\n",
    "print(c)"
   ]
  },
  {
   "cell_type": "code",
   "execution_count": null,
   "id": "6b01d978-ac3f-4623-bfc3-6cfd682ff766",
   "metadata": {},
   "outputs": [],
   "source": [
    "Answer2:"
   ]
  },
  {
   "cell_type": "code",
   "execution_count": 61,
   "id": "966bed2b-f9d8-4c7c-aac2-4786950afb87",
   "metadata": {},
   "outputs": [
    {
     "name": "stdout",
     "output_type": "stream",
     "text": [
      "h$x$r$v$m$g$r$h$g$\n"
     ]
    }
   ],
   "source": [
    "encrypt = {\n",
    "         'a':'z','b':'y','c':'x','d':'w','e':'v','f':'u','g':'t','h':'s','i':'r','j':'q','k':'p','l':'o','m':'n','n':'m','o':'l','p':'k','q':'j','r':'i','s':'h','t':'g','u':'f','v':'e','w':'d','x':'c','y':'b','z':'a'}\n",
    "a = 'I want to become a Data Scientist'\n",
    "\n",
    "msg = a.lower()\n",
    "split_msg = msg.split(' ')\n",
    "final_msg = ''\n",
    "for i in split_msg :\n",
    "    sub_msg = ''\n",
    "    for j in i :\n",
    "        encrypted = encrypt.get(j,j)\n",
    "        sub_msg += encrypted + '$'\n",
    "        final_msg += sub_msg + '$'\n",
    "print(final_)\n",
    "    "
   ]
  },
  {
   "cell_type": "code",
   "execution_count": null,
   "id": "d322aa67-fe67-4aea-99b6-7f86262fbb28",
   "metadata": {},
   "outputs": [],
   "source": []
  }
 ],
 "metadata": {
  "kernelspec": {
   "display_name": "Python 3 (ipykernel)",
   "language": "python",
   "name": "python3"
  },
  "language_info": {
   "codemirror_mode": {
    "name": "ipython",
    "version": 3
   },
   "file_extension": ".py",
   "mimetype": "text/x-python",
   "name": "python",
   "nbconvert_exporter": "python",
   "pygments_lexer": "ipython3",
   "version": "3.10.8"
  }
 },
 "nbformat": 4,
 "nbformat_minor": 5
}
