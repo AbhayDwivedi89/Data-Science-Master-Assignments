{
 "cells": [
  {
   "cell_type": "code",
   "execution_count": null,
   "id": "86a8d5ae-4789-4975-9100-674ac600e60b",
   "metadata": {},
   "outputs": [],
   "source": [
    "Ans1:"
   ]
  },
  {
   "cell_type": "code",
   "execution_count": 3,
   "id": "3ccb63f5-ab16-43fc-ad0b-a1c88458cab6",
   "metadata": {},
   "outputs": [],
   "source": [
    "class Vehicle :\n",
    "    def __init__(self,name_of_vehicle , max_speed , average_of_vehicle):\n",
    "        \n",
    "        self.name_of_vehicle = name_of_vehicle \n",
    "        self. max_speed =  max_speed \n",
    "        self.average_of_vehicle = average_of_vehicle"
   ]
  },
  {
   "cell_type": "code",
   "execution_count": 1,
   "id": "ccd53c06-dd5a-4186-ab89-d5ca3334aee1",
   "metadata": {},
   "outputs": [],
   "source": [
    "Ans2:"
   ]
  },
  {
   "cell_type": "code",
   "execution_count": 13,
   "id": "8cf8dd7d-7d47-4024-aa01-4f497527bc9e",
   "metadata": {},
   "outputs": [],
   "source": [
    "class car(Vehicle):\n",
    "    def __init__(self , seating_capacity , name_of_vehicle , max_speed , average_speed ):\n",
    "        self. seating_capacity =  seating_capacity \n",
    "        super().__init__(name_of_vehicle , max_speed , average_speed)\n",
    "        \n",
    "    def about(self):\n",
    "        return print('Name of vehicle is = ', self.name_of_vehicle ,'seating capacity is :',self.seating_capacity)  \n",
    "                                                "
   ]
  },
  {
   "cell_type": "code",
   "execution_count": 15,
   "id": "2275a205-0f35-4905-94b2-a0233f09c5de",
   "metadata": {},
   "outputs": [],
   "source": [
    "my_car = car(8,'Tata BlackBird',200,60)"
   ]
  },
  {
   "cell_type": "code",
   "execution_count": 16,
   "id": "e6040d53-8a96-4d6f-9de0-90c9e592c8af",
   "metadata": {},
   "outputs": [
    {
     "name": "stdout",
     "output_type": "stream",
     "text": [
      "Name of vehicle is =  Tata BlackBird seating capacity is : 8\n"
     ]
    }
   ],
   "source": [
    "my_car.about()"
   ]
  },
  {
   "cell_type": "code",
   "execution_count": null,
   "id": "430ed385-4856-4b9e-b069-e9dd3747f546",
   "metadata": {},
   "outputs": [],
   "source": [
    "Ans3:"
   ]
  },
  {
   "cell_type": "code",
   "execution_count": null,
   "id": "9f44d2ac-e81a-4ec6-b964-51667af5ba14",
   "metadata": {},
   "outputs": [],
   "source": [
    "Multiple inheritance is a feature in object-oriented programming languages that allows \n",
    "a class to inherit characteristics and behavior from more than one parent class. \n",
    "In other words, it allows a single class to inherit properties and methods from multiple classes.\n",
    "This allows for code reusability and eliminates the need for a lot of redundant code."
   ]
  },
  {
   "cell_type": "code",
   "execution_count": 18,
   "id": "0a6621e0-d394-424c-be0b-7d3b4695ff30",
   "metadata": {},
   "outputs": [],
   "source": [
    "class class1:\n",
    "    def test_class1(self):\n",
    "        return print('This is method of class1')\n",
    "    \n",
    "class class2:\n",
    "    def test_class2(self):\n",
    "        return print('This is method of class2')\n",
    "\n",
    "\n",
    "class class3(class1,class2):\n",
    "    pass"
   ]
  },
  {
   "cell_type": "code",
   "execution_count": 19,
   "id": "a4aff6bf-a707-42cf-abff-0726fa13778b",
   "metadata": {},
   "outputs": [],
   "source": [
    "my_class = class3()"
   ]
  },
  {
   "cell_type": "code",
   "execution_count": 20,
   "id": "228614d7-dc81-4c02-a910-f927386ac13d",
   "metadata": {},
   "outputs": [
    {
     "name": "stdout",
     "output_type": "stream",
     "text": [
      "This is method of class1\n",
      "This is method of class2\n"
     ]
    }
   ],
   "source": [
    "my_class.test_class1()\n",
    "my_class.test_class2()"
   ]
  },
  {
   "cell_type": "code",
   "execution_count": null,
   "id": "eeb165f4-0f0f-4be3-9381-0451a5eca541",
   "metadata": {},
   "outputs": [],
   "source": [
    "Ans4:"
   ]
  },
  {
   "cell_type": "code",
   "execution_count": null,
   "id": "3414cb67-9e05-456a-a202-b37fff08c182",
   "metadata": {},
   "outputs": [],
   "source": [
    "In Python, getters and setters are methods that are used to access and modify the values of an object's attributes, \n",
    "respectively.\n",
    "They allow for the encapsulation of object data and can be used to perform additional operations when accessing or\n",
    "modifying an attribute."
   ]
  },
  {
   "cell_type": "code",
   "execution_count": 39,
   "id": "97b02f84-efc0-4358-bee2-4bc83416bc76",
   "metadata": {},
   "outputs": [
    {
     "name": "stdout",
     "output_type": "stream",
     "text": [
      "28\n",
      "28\n"
     ]
    }
   ],
   "source": [
    "\n",
    "class Person :\n",
    "\tdef __init__(self, age = 0):\n",
    "\t\tself._age = age\n",
    "\t\n",
    "\t\n",
    "\tdef get_age(self):\n",
    "\t\treturn self._age\n",
    "\t\n",
    "\t\n",
    "\tdef set_age(self, x):\n",
    "\t\tself._age = x\n",
    "\n",
    "abhay = Person()\n",
    "\n",
    "\n",
    "abhay.set_age(28)\n",
    "\n",
    "\n",
    "print(abhay.get_age())\n",
    "\n",
    "print(abhay._age)\n"
   ]
  },
  {
   "cell_type": "code",
   "execution_count": null,
   "id": "542efad0-8b3a-47a9-9cf5-a5823bdd369d",
   "metadata": {},
   "outputs": [],
   "source": [
    "Ans5:"
   ]
  },
  {
   "cell_type": "code",
   "execution_count": null,
   "id": "59137a85-7793-4476-9291-e97c399d676c",
   "metadata": {},
   "outputs": [],
   "source": [
    "Method overriding in Python is a technique where a subclass provides a new implementation for a method \n",
    "that is already defined in its superclass.\n",
    "The method in the subclass has the same name, parameters, and return type as the method in the superclass."
   ]
  },
  {
   "cell_type": "code",
   "execution_count": 50,
   "id": "aa4fd2e1-ffbc-4d7c-bfec-2a24a14c7a6f",
   "metadata": {},
   "outputs": [],
   "source": [
    "class Parent:\n",
    "    def __init__(self):\n",
    "        self.value = 'inside Parent'\n",
    "    def show (self):\n",
    "        print(self.value)\n",
    "        \n",
    "        \n",
    "class child(Parent):\n",
    "    def __init__(self):\n",
    "        self.value = 'inside child'\n",
    "    def show(self):\n",
    "        print(self.value)"
   ]
  },
  {
   "cell_type": "code",
   "execution_count": 51,
   "id": "167ae3dd-33c6-48b5-8eb0-82fc92a2773b",
   "metadata": {},
   "outputs": [],
   "source": [
    "abhay1 = Parent()\n",
    "\n",
    "abhay2 = child()"
   ]
  },
  {
   "cell_type": "code",
   "execution_count": 53,
   "id": "42855a7b-c952-4c06-80f3-4c4096d9c14a",
   "metadata": {},
   "outputs": [
    {
     "name": "stdout",
     "output_type": "stream",
     "text": [
      "inside Parent\n",
      "inside child\n"
     ]
    }
   ],
   "source": [
    "abhay1.show()\n",
    "abhay2.show()"
   ]
  },
  {
   "cell_type": "code",
   "execution_count": null,
   "id": "82380c0d-b2e6-4d8e-8c52-c6dcf66ca3f5",
   "metadata": {},
   "outputs": [],
   "source": []
  }
 ],
 "metadata": {
  "kernelspec": {
   "display_name": "Python 3 (ipykernel)",
   "language": "python",
   "name": "python3"
  },
  "language_info": {
   "codemirror_mode": {
    "name": "ipython",
    "version": 3
   },
   "file_extension": ".py",
   "mimetype": "text/x-python",
   "name": "python",
   "nbconvert_exporter": "python",
   "pygments_lexer": "ipython3",
   "version": "3.10.8"
  }
 },
 "nbformat": 4,
 "nbformat_minor": 5
}
