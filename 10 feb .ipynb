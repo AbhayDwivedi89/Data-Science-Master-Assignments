{
 "cells": [
  {
   "cell_type": "code",
   "execution_count": null,
   "id": "70f07cc5-a571-412e-8f73-6a0ad2c0d46b",
   "metadata": {},
   "outputs": [],
   "source": [
    "Ans1:"
   ]
  },
  {
   "cell_type": "code",
   "execution_count": null,
   "id": "3f53aefb-5c0a-41d8-89a0-3ab4f4bb9f01",
   "metadata": {},
   "outputs": [],
   "source": [
    "the open() function is used to open a file. The open() function takes two arguments:\n",
    "the first argument is the file path, and the second argument is the mode in which you want to open the file.\n",
    "\n",
    "The different modes of opening a file are:\n",
    "\n",
    "read mode: \n",
    "    This mode is used to read the contents of an existing file. If the file does not exist, a FileNotFoundError is raised.\n",
    "write mode:\n",
    "    This mode is used to write to a file. If the file does not exist, a new file is created. If the file already exists, its contents are truncated. That means that if you open a file in write mode, any existing data in the file will be deleted.\n",
    "append mode: \n",
    "    This mode is used to append data to an existing file. If the file does not exist, a new file is created.\n",
    "exclusive creation mode: \n",
    "    This mode is used to create a new file, but only if the file does not already exist. If the file exists, a FileExistsError is raised.\n",
    "binary mode: \n",
    "    This mode is used to open a file in binary mode, which is necessary when working with binary files like images or audio files. If this mode is not specified, the file will be opened in text mode by default.\n",
    "text mode: \n",
    "    This mode is used to open a file in text mode, which is the default mode. If this mode is not specified, the file will be opened in text mode by default."
   ]
  },
  {
   "cell_type": "code",
   "execution_count": null,
   "id": "6f9aa020-5e1b-4ae8-91c3-a569dbc0cb6d",
   "metadata": {},
   "outputs": [],
   "source": [
    "Ans2:"
   ]
  },
  {
   "cell_type": "code",
   "execution_count": null,
   "id": "501ac3f9-78fd-4e0e-b77c-3a3148a84691",
   "metadata": {},
   "outputs": [],
   "source": [
    "The close() function is used to close an open file object.\n",
    "It's important to close a file when you're done working with it to ensure that any changes you made\n",
    "to the file are written to disk and that system resources used by the file are freed.\n"
   ]
  },
  {
   "cell_type": "code",
   "execution_count": null,
   "id": "819ba5b9-edc0-4701-90dd-e7453f4ead70",
   "metadata": {},
   "outputs": [],
   "source": [
    "Ans3:"
   ]
  },
  {
   "cell_type": "code",
   "execution_count": 1,
   "id": "964945ed-616a-492a-9918-7e37b00dc5c3",
   "metadata": {},
   "outputs": [],
   "source": [
    "f = open('text.txt','w')"
   ]
  },
  {
   "cell_type": "code",
   "execution_count": 2,
   "id": "7d6f1e22-b010-46e5-a8d9-a4d107800b8b",
   "metadata": {},
   "outputs": [
    {
     "data": {
      "text/plain": [
       "33"
      ]
     },
     "execution_count": 2,
     "metadata": {},
     "output_type": "execute_result"
    }
   ],
   "source": [
    "f.write('I want to become a Data Scientist')"
   ]
  },
  {
   "cell_type": "code",
   "execution_count": 3,
   "id": "75ac7794-0454-445a-9f9b-2a240aa69706",
   "metadata": {},
   "outputs": [],
   "source": [
    "f.close()"
   ]
  },
  {
   "cell_type": "code",
   "execution_count": 4,
   "id": "3e6c15ce-343e-4001-81a9-2d56dcfecf91",
   "metadata": {},
   "outputs": [
    {
     "name": "stdout",
     "output_type": "stream",
     "text": [
      "I want to become a Data Scientist\n"
     ]
    }
   ],
   "source": [
    "f = open('text.txt','r')\n",
    "f_content = f.read()\n",
    "f.close()\n",
    "print(f_content)"
   ]
  },
  {
   "cell_type": "code",
   "execution_count": null,
   "id": "279ccd00-1af9-407b-a2dc-35290eab62aa",
   "metadata": {},
   "outputs": [],
   "source": [
    "Ans4:"
   ]
  },
  {
   "cell_type": "code",
   "execution_count": null,
   "id": "ff2c4b97-6a89-4b31-9e61-0f338adc8439",
   "metadata": {},
   "outputs": [],
   "source": [
    "read example:"
   ]
  },
  {
   "cell_type": "code",
   "execution_count": 7,
   "id": "11c8bff6-a49a-4c98-bb08-e8385860d10c",
   "metadata": {},
   "outputs": [
    {
     "name": "stdout",
     "output_type": "stream",
     "text": [
      "I want to become a Data Scientist\n"
     ]
    }
   ],
   "source": [
    "# Open a file for reading\n",
    "file = open(\"text.txt\", \"r\")\n",
    "\n",
    "# Read the entire contents of the file\n",
    "contents = file.read()\n",
    "\n",
    "# Close the file\n",
    "file.close()\n",
    "\n",
    "# Print the contents of the file\n",
    "print(contents)\n"
   ]
  },
  {
   "cell_type": "raw",
   "id": "57de50fc-81b6-42e3-b21d-f5afd2f3b4bc",
   "metadata": {},
   "source": [
    "readline example:"
   ]
  },
  {
   "cell_type": "code",
   "execution_count": 6,
   "id": "5f2b69ef-8bbf-4c4b-8d46-4982128f4383",
   "metadata": {},
   "outputs": [
    {
     "name": "stdout",
     "output_type": "stream",
     "text": [
      "I want to become a Data Scientist\n",
      "\n"
     ]
    }
   ],
   "source": [
    "# Open a file for reading\n",
    "file = open(\"text.txt\", \"r\")\n",
    "\n",
    "# Read the first line of the file\n",
    "line1 = file.readline()\n",
    "\n",
    "# Read the second line of the file\n",
    "line2 = file.readline()\n",
    "\n",
    "# Close the file\n",
    "file.close()\n",
    "\n",
    "# Print the contents of the first two lines\n",
    "print(line1)\n",
    "print(line2)\n"
   ]
  },
  {
   "cell_type": "code",
   "execution_count": null,
   "id": "47c4ea58-82bc-4d13-bddb-b5e638b6e2e3",
   "metadata": {},
   "outputs": [],
   "source": [
    "readlines example:"
   ]
  },
  {
   "cell_type": "code",
   "execution_count": 5,
   "id": "2f8d4e27-d34c-464a-a4ef-f26ba89ce762",
   "metadata": {},
   "outputs": [
    {
     "name": "stdout",
     "output_type": "stream",
     "text": [
      "I want to become a Data Scientist\n"
     ]
    }
   ],
   "source": [
    "# Open a file for reading\n",
    "file = open(\"text.txt\", \"r\")\n",
    "\n",
    "# Read all the lines of the file into a list\n",
    "lines = file.readlines()\n",
    "\n",
    "# Close the file\n",
    "file.close()\n",
    "\n",
    "# Print the contents of the file, one line at a time\n",
    "for line in lines:\n",
    "    print(line)\n"
   ]
  },
  {
   "cell_type": "code",
   "execution_count": null,
   "id": "866efa37-a78e-4b25-8869-177bda5b456b",
   "metadata": {},
   "outputs": [],
   "source": [
    "Ans5:"
   ]
  },
  {
   "cell_type": "code",
   "execution_count": null,
   "id": "e2ff24e4-d38a-4961-a217-04ee5c60ec68",
   "metadata": {},
   "outputs": [],
   "source": [
    "When you use with statement with open(), you don't need to explicitly call the close() method on the file object\n",
    "after you're done with it.\n",
    "The with statement will take care of this for you automatically, even if there is an exception raised while\n",
    "you're working with the file."
   ]
  },
  {
   "cell_type": "code",
   "execution_count": null,
   "id": "87430777-3191-453c-b19e-80c4d47238be",
   "metadata": {},
   "outputs": [],
   "source": [
    "Ans6:"
   ]
  },
  {
   "cell_type": "code",
   "execution_count": null,
   "id": "41086957-fb35-44c2-8296-8c29935f68b0",
   "metadata": {},
   "outputs": [],
   "source": [
    "write():\n",
    "    The write() method is used to write a string to a file. It takes a single argument,\n",
    "    which is the string to be written.\n",
    "Example:"
   ]
  },
  {
   "cell_type": "code",
   "execution_count": 8,
   "id": "04dfeeb1-8d00-4eb8-b7c9-136c988a72d3",
   "metadata": {},
   "outputs": [],
   "source": [
    "# Open a file for writing\n",
    "file = open(\"my_file.txt\", \"w\")\n",
    "\n",
    "# Write a string to the file\n",
    "file.write(\"Hello, world!\")\n",
    "\n",
    "# Close the file\n",
    "file.close()\n"
   ]
  },
  {
   "cell_type": "code",
   "execution_count": null,
   "id": "9461786f-4267-48c9-8723-52bded5fbda7",
   "metadata": {},
   "outputs": [],
   "source": [
    "writelines(): \n",
    "    The writelines() method is used to write a list of strings to a file.\n",
    "    Each element in the list is written to the file as a separate line.\n",
    "Example:"
   ]
  },
  {
   "cell_type": "code",
   "execution_count": 9,
   "id": "7428f044-2b39-408b-acf7-a0777110991f",
   "metadata": {},
   "outputs": [],
   "source": [
    "# Open a file for writing\n",
    "file = open(\"my_file.txt\", \"w\")\n",
    "\n",
    "# Write a list of strings to the file\n",
    "lines = [\"Line 1\\n\", \"Line 2\\n\", \"Line 3\\n\"]\n",
    "file.writelines(lines)\n",
    "\n",
    "# Close the file\n",
    "file.close()\n"
   ]
  },
  {
   "cell_type": "code",
   "execution_count": null,
   "id": "9a16ec91-d4b1-49dd-9ea3-732c57495321",
   "metadata": {},
   "outputs": [],
   "source": []
  }
 ],
 "metadata": {
  "kernelspec": {
   "display_name": "Python 3 (ipykernel)",
   "language": "python",
   "name": "python3"
  },
  "language_info": {
   "codemirror_mode": {
    "name": "ipython",
    "version": 3
   },
   "file_extension": ".py",
   "mimetype": "text/x-python",
   "name": "python",
   "nbconvert_exporter": "python",
   "pygments_lexer": "ipython3",
   "version": "3.10.8"
  }
 },
 "nbformat": 4,
 "nbformat_minor": 5
}
